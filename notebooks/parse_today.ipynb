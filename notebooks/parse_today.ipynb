{
 "cells": [
  {
   "cell_type": "code",
   "execution_count": 11,
   "id": "5912f7ce-d6b0-4f52-94d5-2f3c51854c4e",
   "metadata": {},
   "outputs": [],
   "source": [
    "import pandas as pd\n",
    "from datetime import date, timedelta\n",
    "import matplotlib.pyplot as plt\n",
    "import mpld3"
   ]
  },
  {
   "cell_type": "code",
   "execution_count": 12,
   "id": "51127e94-33a2-416f-a30b-c19a14e9b75d",
   "metadata": {},
   "outputs": [],
   "source": [
    "file_path = \"https://www.dhhs.vic.gov.au/ncov-covid-cases-by-age-group-csv\"\n",
    "df = pd.read_csv(file_path)"
   ]
  },
  {
   "cell_type": "code",
   "execution_count": 13,
   "id": "b4fb534e-ed9e-40da-bb29-462a2b80b389",
   "metadata": {},
   "outputs": [
    {
     "data": {
      "text/html": [
       "<div>\n",
       "<style scoped>\n",
       "    .dataframe tbody tr th:only-of-type {\n",
       "        vertical-align: middle;\n",
       "    }\n",
       "\n",
       "    .dataframe tbody tr th {\n",
       "        vertical-align: top;\n",
       "    }\n",
       "\n",
       "    .dataframe thead th {\n",
       "        text-align: right;\n",
       "    }\n",
       "</style>\n",
       "<table border=\"1\" class=\"dataframe\">\n",
       "  <thead>\n",
       "    <tr style=\"text-align: right;\">\n",
       "      <th></th>\n",
       "      <th>diagnosis_date</th>\n",
       "      <th>agegroup</th>\n",
       "    </tr>\n",
       "  </thead>\n",
       "  <tbody>\n",
       "    <tr>\n",
       "      <th>724642</th>\n",
       "      <td>2022-03-24</td>\n",
       "      <td>20-29</td>\n",
       "    </tr>\n",
       "    <tr>\n",
       "      <th>724643</th>\n",
       "      <td>2022-03-24</td>\n",
       "      <td>30-39</td>\n",
       "    </tr>\n",
       "    <tr>\n",
       "      <th>724644</th>\n",
       "      <td>2022-03-24</td>\n",
       "      <td>70-79</td>\n",
       "    </tr>\n",
       "    <tr>\n",
       "      <th>724645</th>\n",
       "      <td>2022-03-24</td>\n",
       "      <td>10-19_</td>\n",
       "    </tr>\n",
       "    <tr>\n",
       "      <th>724646</th>\n",
       "      <td>2022-03-24</td>\n",
       "      <td>40-49</td>\n",
       "    </tr>\n",
       "  </tbody>\n",
       "</table>\n",
       "</div>"
      ],
      "text/plain": [
       "       diagnosis_date agegroup\n",
       "724642     2022-03-24    20-29\n",
       "724643     2022-03-24    30-39\n",
       "724644     2022-03-24    70-79\n",
       "724645     2022-03-24   10-19_\n",
       "724646     2022-03-24    40-49"
      ]
     },
     "execution_count": 13,
     "metadata": {},
     "output_type": "execute_result"
    }
   ],
   "source": [
    "df.tail()"
   ]
  },
  {
   "cell_type": "code",
   "execution_count": 14,
   "id": "b80ec17e-5ead-45fd-b216-6c8ec337cfc1",
   "metadata": {},
   "outputs": [],
   "source": [
    "df_pivot = pd.pivot_table(df, index = 'diagnosis_date', columns = 'agegroup', \n",
    "                         values = 'agegroup', aggfunc = len, fill_value = 0)"
   ]
  },
  {
   "cell_type": "code",
   "execution_count": 15,
   "id": "90f6d818-b3d8-4975-8c92-30872272a966",
   "metadata": {},
   "outputs": [
    {
     "data": {
      "text/html": [
       "<div>\n",
       "<style scoped>\n",
       "    .dataframe tbody tr th:only-of-type {\n",
       "        vertical-align: middle;\n",
       "    }\n",
       "\n",
       "    .dataframe tbody tr th {\n",
       "        vertical-align: top;\n",
       "    }\n",
       "\n",
       "    .dataframe thead th {\n",
       "        text-align: right;\n",
       "    }\n",
       "</style>\n",
       "<table border=\"1\" class=\"dataframe\">\n",
       "  <thead>\n",
       "    <tr style=\"text-align: right;\">\n",
       "      <th>agegroup</th>\n",
       "      <th>0-9</th>\n",
       "      <th>10-19_</th>\n",
       "      <th>20-29</th>\n",
       "      <th>30-39</th>\n",
       "      <th>40-49</th>\n",
       "      <th>50-59</th>\n",
       "      <th>60-69</th>\n",
       "      <th>70-79</th>\n",
       "      <th>80-89</th>\n",
       "      <th>90+</th>\n",
       "    </tr>\n",
       "    <tr>\n",
       "      <th>diagnosis_date</th>\n",
       "      <th></th>\n",
       "      <th></th>\n",
       "      <th></th>\n",
       "      <th></th>\n",
       "      <th></th>\n",
       "      <th></th>\n",
       "      <th></th>\n",
       "      <th></th>\n",
       "      <th></th>\n",
       "      <th></th>\n",
       "    </tr>\n",
       "  </thead>\n",
       "  <tbody>\n",
       "    <tr>\n",
       "      <th>2022-03-20</th>\n",
       "      <td>223</td>\n",
       "      <td>354</td>\n",
       "      <td>339</td>\n",
       "      <td>370</td>\n",
       "      <td>322</td>\n",
       "      <td>227</td>\n",
       "      <td>152</td>\n",
       "      <td>90</td>\n",
       "      <td>34</td>\n",
       "      <td>6</td>\n",
       "    </tr>\n",
       "    <tr>\n",
       "      <th>2022-03-21</th>\n",
       "      <td>258</td>\n",
       "      <td>377</td>\n",
       "      <td>395</td>\n",
       "      <td>473</td>\n",
       "      <td>416</td>\n",
       "      <td>299</td>\n",
       "      <td>201</td>\n",
       "      <td>118</td>\n",
       "      <td>47</td>\n",
       "      <td>18</td>\n",
       "    </tr>\n",
       "    <tr>\n",
       "      <th>2022-03-22</th>\n",
       "      <td>343</td>\n",
       "      <td>563</td>\n",
       "      <td>657</td>\n",
       "      <td>685</td>\n",
       "      <td>548</td>\n",
       "      <td>419</td>\n",
       "      <td>273</td>\n",
       "      <td>159</td>\n",
       "      <td>65</td>\n",
       "      <td>18</td>\n",
       "    </tr>\n",
       "    <tr>\n",
       "      <th>2022-03-23</th>\n",
       "      <td>274</td>\n",
       "      <td>449</td>\n",
       "      <td>682</td>\n",
       "      <td>656</td>\n",
       "      <td>550</td>\n",
       "      <td>396</td>\n",
       "      <td>280</td>\n",
       "      <td>217</td>\n",
       "      <td>77</td>\n",
       "      <td>25</td>\n",
       "    </tr>\n",
       "    <tr>\n",
       "      <th>2022-03-24</th>\n",
       "      <td>254</td>\n",
       "      <td>392</td>\n",
       "      <td>597</td>\n",
       "      <td>567</td>\n",
       "      <td>495</td>\n",
       "      <td>395</td>\n",
       "      <td>263</td>\n",
       "      <td>166</td>\n",
       "      <td>59</td>\n",
       "      <td>23</td>\n",
       "    </tr>\n",
       "  </tbody>\n",
       "</table>\n",
       "</div>"
      ],
      "text/plain": [
       "agegroup        0-9  10-19_  20-29  30-39  40-49  50-59  60-69  70-79  80-89  \\\n",
       "diagnosis_date                                                                 \n",
       "2022-03-20      223     354    339    370    322    227    152     90     34   \n",
       "2022-03-21      258     377    395    473    416    299    201    118     47   \n",
       "2022-03-22      343     563    657    685    548    419    273    159     65   \n",
       "2022-03-23      274     449    682    656    550    396    280    217     77   \n",
       "2022-03-24      254     392    597    567    495    395    263    166     59   \n",
       "\n",
       "agegroup        90+  \n",
       "diagnosis_date       \n",
       "2022-03-20        6  \n",
       "2022-03-21       18  \n",
       "2022-03-22       18  \n",
       "2022-03-23       25  \n",
       "2022-03-24       23  "
      ]
     },
     "execution_count": 15,
     "metadata": {},
     "output_type": "execute_result"
    }
   ],
   "source": [
    "df_pivot.tail()"
   ]
  },
  {
   "cell_type": "code",
   "execution_count": 16,
   "id": "9acc505f-27a7-4845-bf8a-1f58abf00019",
   "metadata": {},
   "outputs": [
    {
     "data": {
      "text/plain": [
       "3211"
      ]
     },
     "execution_count": 16,
     "metadata": {},
     "output_type": "execute_result"
    }
   ],
   "source": [
    "# check that the latest date's sum matches the number of cases reported by Vic govt\n",
    "# the latest row's date is always yesterday\n",
    "\n",
    "today = date.today()\n",
    "yesterday = today - timedelta(days = 1)\n",
    "\n",
    "# the dates in the pivot table are strings\n",
    "# so use isoformat() to convert date into string before looking it up in the table\n",
    "df_pivot.loc[yesterday.isoformat()].sum()"
   ]
  },
  {
   "cell_type": "code",
   "execution_count": 17,
   "id": "14809a7c-89ff-4b66-9375-300f4b7ea560",
   "metadata": {},
   "outputs": [
    {
     "data": {
      "text/html": [
       "<div>\n",
       "<style scoped>\n",
       "    .dataframe tbody tr th:only-of-type {\n",
       "        vertical-align: middle;\n",
       "    }\n",
       "\n",
       "    .dataframe tbody tr th {\n",
       "        vertical-align: top;\n",
       "    }\n",
       "\n",
       "    .dataframe thead th {\n",
       "        text-align: right;\n",
       "    }\n",
       "</style>\n",
       "<table border=\"1\" class=\"dataframe\">\n",
       "  <thead>\n",
       "    <tr style=\"text-align: right;\">\n",
       "      <th></th>\n",
       "      <th>date</th>\n",
       "      <th>cases_0_9</th>\n",
       "      <th>cases_10_19</th>\n",
       "    </tr>\n",
       "  </thead>\n",
       "  <tbody>\n",
       "    <tr>\n",
       "      <th>105</th>\n",
       "      <td>2022-03-20</td>\n",
       "      <td>225</td>\n",
       "      <td>333</td>\n",
       "    </tr>\n",
       "    <tr>\n",
       "      <th>106</th>\n",
       "      <td>2022-03-21</td>\n",
       "      <td>220</td>\n",
       "      <td>346</td>\n",
       "    </tr>\n",
       "    <tr>\n",
       "      <th>107</th>\n",
       "      <td>2022-03-22</td>\n",
       "      <td>241</td>\n",
       "      <td>354</td>\n",
       "    </tr>\n",
       "    <tr>\n",
       "      <th>108</th>\n",
       "      <td>2022-03-23</td>\n",
       "      <td>313</td>\n",
       "      <td>498</td>\n",
       "    </tr>\n",
       "    <tr>\n",
       "      <th>109</th>\n",
       "      <td>2022-03-24</td>\n",
       "      <td>256</td>\n",
       "      <td>410</td>\n",
       "    </tr>\n",
       "  </tbody>\n",
       "</table>\n",
       "</div>"
      ],
      "text/plain": [
       "           date  cases_0_9  cases_10_19\n",
       "105  2022-03-20        225          333\n",
       "106  2022-03-21        220          346\n",
       "107  2022-03-22        241          354\n",
       "108  2022-03-23        313          498\n",
       "109  2022-03-24        256          410"
      ]
     },
     "execution_count": 17,
     "metadata": {},
     "output_type": "execute_result"
    }
   ],
   "source": [
    "# open my csv containing 0-19 case numbers collected so far\n",
    "\n",
    "df_0_19 = pd.read_csv(\"../data/cases_0_19.csv\", index_col = 0)\n",
    "df_0_19.tail()"
   ]
  },
  {
   "cell_type": "code",
   "execution_count": 18,
   "id": "b44344e0-6270-4178-9fdc-0ce9e9b4fe84",
   "metadata": {},
   "outputs": [
    {
     "name": "stderr",
     "output_type": "stream",
     "text": [
      "C:\\Users\\amanj\\AppData\\Local\\Temp\\ipykernel_11292\\403421804.py:4: FutureWarning: The frame.append method is deprecated and will be removed from pandas in a future version. Use pandas.concat instead.\n",
      "  df_0_19 = df_0_19.append({'date': today.isoformat(), 'cases_0_9': df_pivot.loc[yesterday.isoformat(), '0-9'],\n"
     ]
    }
   ],
   "source": [
    "# get the latest date from pivot table, add it to my 0-19 csv, then save my csv\n",
    "# the latest date is always yesterday, because today's cases were diagnosed yesterday\n",
    "\n",
    "df_0_19 = df_0_19.append({'date': today.isoformat(), 'cases_0_9': df_pivot.loc[yesterday.isoformat(), '0-9'], \n",
    "                          'cases_10_19': df_pivot.loc[yesterday.isoformat(), '10-19_']}, ignore_index = True)"
   ]
  },
  {
   "cell_type": "code",
   "execution_count": 19,
   "id": "dda4bbab-7aa3-414c-8a09-6e7828954d0f",
   "metadata": {},
   "outputs": [
    {
     "data": {
      "text/html": [
       "<div>\n",
       "<style scoped>\n",
       "    .dataframe tbody tr th:only-of-type {\n",
       "        vertical-align: middle;\n",
       "    }\n",
       "\n",
       "    .dataframe tbody tr th {\n",
       "        vertical-align: top;\n",
       "    }\n",
       "\n",
       "    .dataframe thead th {\n",
       "        text-align: right;\n",
       "    }\n",
       "</style>\n",
       "<table border=\"1\" class=\"dataframe\">\n",
       "  <thead>\n",
       "    <tr style=\"text-align: right;\">\n",
       "      <th></th>\n",
       "      <th>date</th>\n",
       "      <th>cases_0_9</th>\n",
       "      <th>cases_10_19</th>\n",
       "    </tr>\n",
       "  </thead>\n",
       "  <tbody>\n",
       "    <tr>\n",
       "      <th>106</th>\n",
       "      <td>2022-03-21</td>\n",
       "      <td>220</td>\n",
       "      <td>346</td>\n",
       "    </tr>\n",
       "    <tr>\n",
       "      <th>107</th>\n",
       "      <td>2022-03-22</td>\n",
       "      <td>241</td>\n",
       "      <td>354</td>\n",
       "    </tr>\n",
       "    <tr>\n",
       "      <th>108</th>\n",
       "      <td>2022-03-23</td>\n",
       "      <td>313</td>\n",
       "      <td>498</td>\n",
       "    </tr>\n",
       "    <tr>\n",
       "      <th>109</th>\n",
       "      <td>2022-03-24</td>\n",
       "      <td>256</td>\n",
       "      <td>410</td>\n",
       "    </tr>\n",
       "    <tr>\n",
       "      <th>110</th>\n",
       "      <td>2022-03-25</td>\n",
       "      <td>254</td>\n",
       "      <td>392</td>\n",
       "    </tr>\n",
       "  </tbody>\n",
       "</table>\n",
       "</div>"
      ],
      "text/plain": [
       "           date  cases_0_9  cases_10_19\n",
       "106  2022-03-21        220          346\n",
       "107  2022-03-22        241          354\n",
       "108  2022-03-23        313          498\n",
       "109  2022-03-24        256          410\n",
       "110  2022-03-25        254          392"
      ]
     },
     "execution_count": 19,
     "metadata": {},
     "output_type": "execute_result"
    }
   ],
   "source": [
    "df_0_19.tail()"
   ]
  },
  {
   "cell_type": "code",
   "execution_count": 20,
   "id": "d6f6fd5f-fa9d-445b-a3c0-242b1739f059",
   "metadata": {},
   "outputs": [],
   "source": [
    "df_0_19.to_csv(\"../data/cases_0_19.csv\")"
   ]
  },
  {
   "cell_type": "code",
   "execution_count": null,
   "id": "0b692491-6c9d-43df-bdd4-7f40c44ee5a2",
   "metadata": {},
   "outputs": [],
   "source": []
  }
 ],
 "metadata": {
  "kernelspec": {
   "display_name": "Python 3 (ipykernel)",
   "language": "python",
   "name": "python3"
  },
  "language_info": {
   "codemirror_mode": {
    "name": "ipython",
    "version": 3
   },
   "file_extension": ".py",
   "mimetype": "text/x-python",
   "name": "python",
   "nbconvert_exporter": "python",
   "pygments_lexer": "ipython3",
   "version": "3.10.2"
  }
 },
 "nbformat": 4,
 "nbformat_minor": 5
}
