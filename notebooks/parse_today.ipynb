{
 "cells": [
  {
   "cell_type": "code",
   "execution_count": 21,
   "id": "5912f7ce-d6b0-4f52-94d5-2f3c51854c4e",
   "metadata": {},
   "outputs": [],
   "source": [
    "import pandas as pd\n",
    "from datetime import date, timedelta\n",
    "import matplotlib.pyplot as plt\n",
    "import mpld3"
   ]
  },
  {
   "cell_type": "code",
   "execution_count": 22,
   "id": "51127e94-33a2-416f-a30b-c19a14e9b75d",
   "metadata": {},
   "outputs": [],
   "source": [
    "file_path = \"https://www.dhhs.vic.gov.au/ncov-covid-cases-by-age-group-csv\"\n",
    "df = pd.read_csv(file_path)"
   ]
  },
  {
   "cell_type": "code",
   "execution_count": 23,
   "id": "b4fb534e-ed9e-40da-bb29-462a2b80b389",
   "metadata": {},
   "outputs": [
    {
     "data": {
      "text/html": [
       "<div>\n",
       "<style scoped>\n",
       "    .dataframe tbody tr th:only-of-type {\n",
       "        vertical-align: middle;\n",
       "    }\n",
       "\n",
       "    .dataframe tbody tr th {\n",
       "        vertical-align: top;\n",
       "    }\n",
       "\n",
       "    .dataframe thead th {\n",
       "        text-align: right;\n",
       "    }\n",
       "</style>\n",
       "<table border=\"1\" class=\"dataframe\">\n",
       "  <thead>\n",
       "    <tr style=\"text-align: right;\">\n",
       "      <th></th>\n",
       "      <th>diagnosis_date</th>\n",
       "      <th>agegroup</th>\n",
       "    </tr>\n",
       "  </thead>\n",
       "  <tbody>\n",
       "    <tr>\n",
       "      <th>708887</th>\n",
       "      <td>2022-03-19</td>\n",
       "      <td>70-79</td>\n",
       "    </tr>\n",
       "    <tr>\n",
       "      <th>708888</th>\n",
       "      <td>2022-03-19</td>\n",
       "      <td>20-29</td>\n",
       "    </tr>\n",
       "    <tr>\n",
       "      <th>708889</th>\n",
       "      <td>2022-03-19</td>\n",
       "      <td>70-79</td>\n",
       "    </tr>\n",
       "    <tr>\n",
       "      <th>708890</th>\n",
       "      <td>2022-03-19</td>\n",
       "      <td>80-89</td>\n",
       "    </tr>\n",
       "    <tr>\n",
       "      <th>708891</th>\n",
       "      <td>2022-03-19</td>\n",
       "      <td>60-69</td>\n",
       "    </tr>\n",
       "  </tbody>\n",
       "</table>\n",
       "</div>"
      ],
      "text/plain": [
       "       diagnosis_date agegroup\n",
       "708887     2022-03-19    70-79\n",
       "708888     2022-03-19    20-29\n",
       "708889     2022-03-19    70-79\n",
       "708890     2022-03-19    80-89\n",
       "708891     2022-03-19    60-69"
      ]
     },
     "execution_count": 23,
     "metadata": {},
     "output_type": "execute_result"
    }
   ],
   "source": [
    "df.tail()"
   ]
  },
  {
   "cell_type": "code",
   "execution_count": 24,
   "id": "b80ec17e-5ead-45fd-b216-6c8ec337cfc1",
   "metadata": {},
   "outputs": [],
   "source": [
    "df_pivot = pd.pivot_table(df, index = 'diagnosis_date', columns = 'agegroup', \n",
    "                         values = 'agegroup', aggfunc = len, fill_value = 0)"
   ]
  },
  {
   "cell_type": "code",
   "execution_count": 25,
   "id": "90f6d818-b3d8-4975-8c92-30872272a966",
   "metadata": {},
   "outputs": [
    {
     "data": {
      "text/html": [
       "<div>\n",
       "<style scoped>\n",
       "    .dataframe tbody tr th:only-of-type {\n",
       "        vertical-align: middle;\n",
       "    }\n",
       "\n",
       "    .dataframe tbody tr th {\n",
       "        vertical-align: top;\n",
       "    }\n",
       "\n",
       "    .dataframe thead th {\n",
       "        text-align: right;\n",
       "    }\n",
       "</style>\n",
       "<table border=\"1\" class=\"dataframe\">\n",
       "  <thead>\n",
       "    <tr style=\"text-align: right;\">\n",
       "      <th>agegroup</th>\n",
       "      <th>0-9</th>\n",
       "      <th>10-19_</th>\n",
       "      <th>20-29</th>\n",
       "      <th>30-39</th>\n",
       "      <th>40-49</th>\n",
       "      <th>50-59</th>\n",
       "      <th>60-69</th>\n",
       "      <th>70-79</th>\n",
       "      <th>80-89</th>\n",
       "      <th>90+</th>\n",
       "    </tr>\n",
       "    <tr>\n",
       "      <th>diagnosis_date</th>\n",
       "      <th></th>\n",
       "      <th></th>\n",
       "      <th></th>\n",
       "      <th></th>\n",
       "      <th></th>\n",
       "      <th></th>\n",
       "      <th></th>\n",
       "      <th></th>\n",
       "      <th></th>\n",
       "      <th></th>\n",
       "    </tr>\n",
       "  </thead>\n",
       "  <tbody>\n",
       "    <tr>\n",
       "      <th>2022-03-15</th>\n",
       "      <td>245</td>\n",
       "      <td>490</td>\n",
       "      <td>376</td>\n",
       "      <td>392</td>\n",
       "      <td>384</td>\n",
       "      <td>257</td>\n",
       "      <td>142</td>\n",
       "      <td>80</td>\n",
       "      <td>44</td>\n",
       "      <td>9</td>\n",
       "    </tr>\n",
       "    <tr>\n",
       "      <th>2022-03-16</th>\n",
       "      <td>374</td>\n",
       "      <td>637</td>\n",
       "      <td>614</td>\n",
       "      <td>642</td>\n",
       "      <td>583</td>\n",
       "      <td>393</td>\n",
       "      <td>198</td>\n",
       "      <td>109</td>\n",
       "      <td>49</td>\n",
       "      <td>13</td>\n",
       "    </tr>\n",
       "    <tr>\n",
       "      <th>2022-03-17</th>\n",
       "      <td>311</td>\n",
       "      <td>493</td>\n",
       "      <td>694</td>\n",
       "      <td>652</td>\n",
       "      <td>545</td>\n",
       "      <td>383</td>\n",
       "      <td>203</td>\n",
       "      <td>95</td>\n",
       "      <td>45</td>\n",
       "      <td>4</td>\n",
       "    </tr>\n",
       "    <tr>\n",
       "      <th>2022-03-18</th>\n",
       "      <td>273</td>\n",
       "      <td>374</td>\n",
       "      <td>559</td>\n",
       "      <td>505</td>\n",
       "      <td>452</td>\n",
       "      <td>303</td>\n",
       "      <td>199</td>\n",
       "      <td>120</td>\n",
       "      <td>45</td>\n",
       "      <td>17</td>\n",
       "    </tr>\n",
       "    <tr>\n",
       "      <th>2022-03-19</th>\n",
       "      <td>206</td>\n",
       "      <td>287</td>\n",
       "      <td>383</td>\n",
       "      <td>392</td>\n",
       "      <td>352</td>\n",
       "      <td>242</td>\n",
       "      <td>189</td>\n",
       "      <td>101</td>\n",
       "      <td>43</td>\n",
       "      <td>16</td>\n",
       "    </tr>\n",
       "  </tbody>\n",
       "</table>\n",
       "</div>"
      ],
      "text/plain": [
       "agegroup        0-9  10-19_  20-29  30-39  40-49  50-59  60-69  70-79  80-89  \\\n",
       "diagnosis_date                                                                 \n",
       "2022-03-15      245     490    376    392    384    257    142     80     44   \n",
       "2022-03-16      374     637    614    642    583    393    198    109     49   \n",
       "2022-03-17      311     493    694    652    545    383    203     95     45   \n",
       "2022-03-18      273     374    559    505    452    303    199    120     45   \n",
       "2022-03-19      206     287    383    392    352    242    189    101     43   \n",
       "\n",
       "agegroup        90+  \n",
       "diagnosis_date       \n",
       "2022-03-15        9  \n",
       "2022-03-16       13  \n",
       "2022-03-17        4  \n",
       "2022-03-18       17  \n",
       "2022-03-19       16  "
      ]
     },
     "execution_count": 25,
     "metadata": {},
     "output_type": "execute_result"
    }
   ],
   "source": [
    "df_pivot.tail()"
   ]
  },
  {
   "cell_type": "code",
   "execution_count": 26,
   "id": "9acc505f-27a7-4845-bf8a-1f58abf00019",
   "metadata": {},
   "outputs": [
    {
     "data": {
      "text/plain": [
       "2211"
      ]
     },
     "execution_count": 26,
     "metadata": {},
     "output_type": "execute_result"
    }
   ],
   "source": [
    "# check that the latest date's sum matches the number of cases reported by Vic govt\n",
    "# the latest row's date is always yesterday\n",
    "\n",
    "today = date.today()\n",
    "yesterday = today - timedelta(days = 1)\n",
    "\n",
    "# the dates in the pivot table are strings\n",
    "# so use isoformat() to convert date into string before looking it up in the table\n",
    "df_pivot.loc[yesterday.isoformat()].sum()"
   ]
  },
  {
   "cell_type": "code",
   "execution_count": 27,
   "id": "14809a7c-89ff-4b66-9375-300f4b7ea560",
   "metadata": {},
   "outputs": [
    {
     "data": {
      "text/html": [
       "<div>\n",
       "<style scoped>\n",
       "    .dataframe tbody tr th:only-of-type {\n",
       "        vertical-align: middle;\n",
       "    }\n",
       "\n",
       "    .dataframe tbody tr th {\n",
       "        vertical-align: top;\n",
       "    }\n",
       "\n",
       "    .dataframe thead th {\n",
       "        text-align: right;\n",
       "    }\n",
       "</style>\n",
       "<table border=\"1\" class=\"dataframe\">\n",
       "  <thead>\n",
       "    <tr style=\"text-align: right;\">\n",
       "      <th></th>\n",
       "      <th>date</th>\n",
       "      <th>cases_0_9</th>\n",
       "      <th>cases_10_19</th>\n",
       "    </tr>\n",
       "  </thead>\n",
       "  <tbody>\n",
       "    <tr>\n",
       "      <th>100</th>\n",
       "      <td>2022-03-15</td>\n",
       "      <td>204</td>\n",
       "      <td>403</td>\n",
       "    </tr>\n",
       "    <tr>\n",
       "      <th>101</th>\n",
       "      <td>2022-03-16</td>\n",
       "      <td>222</td>\n",
       "      <td>455</td>\n",
       "    </tr>\n",
       "    <tr>\n",
       "      <th>102</th>\n",
       "      <td>2022-03-17</td>\n",
       "      <td>335</td>\n",
       "      <td>567</td>\n",
       "    </tr>\n",
       "    <tr>\n",
       "      <th>103</th>\n",
       "      <td>2022-03-18</td>\n",
       "      <td>296</td>\n",
       "      <td>455</td>\n",
       "    </tr>\n",
       "    <tr>\n",
       "      <th>104</th>\n",
       "      <td>2022-03-19</td>\n",
       "      <td>255</td>\n",
       "      <td>341</td>\n",
       "    </tr>\n",
       "  </tbody>\n",
       "</table>\n",
       "</div>"
      ],
      "text/plain": [
       "           date  cases_0_9  cases_10_19\n",
       "100  2022-03-15        204          403\n",
       "101  2022-03-16        222          455\n",
       "102  2022-03-17        335          567\n",
       "103  2022-03-18        296          455\n",
       "104  2022-03-19        255          341"
      ]
     },
     "execution_count": 27,
     "metadata": {},
     "output_type": "execute_result"
    }
   ],
   "source": [
    "# open my csv containing 0-19 case numbers collected so far\n",
    "\n",
    "df_0_19 = pd.read_csv(\"../data/cases_0_19.csv\", index_col = 0)\n",
    "df_0_19.tail()"
   ]
  },
  {
   "cell_type": "code",
   "execution_count": 28,
   "id": "b44344e0-6270-4178-9fdc-0ce9e9b4fe84",
   "metadata": {},
   "outputs": [
    {
     "name": "stderr",
     "output_type": "stream",
     "text": [
      "C:\\Users\\amanj\\AppData\\Local\\Temp\\ipykernel_7988\\403421804.py:4: FutureWarning: The frame.append method is deprecated and will be removed from pandas in a future version. Use pandas.concat instead.\n",
      "  df_0_19 = df_0_19.append({'date': today.isoformat(), 'cases_0_9': df_pivot.loc[yesterday.isoformat(), '0-9'],\n"
     ]
    }
   ],
   "source": [
    "# get the latest date from pivot table, add it to my 0-19 csv, then save my csv\n",
    "# the latest date is always yesterday, because today's cases were diagnosed yesterday\n",
    "\n",
    "df_0_19 = df_0_19.append({'date': today.isoformat(), 'cases_0_9': df_pivot.loc[yesterday.isoformat(), '0-9'], \n",
    "                          'cases_10_19': df_pivot.loc[yesterday.isoformat(), '10-19_']}, ignore_index = True)"
   ]
  },
  {
   "cell_type": "code",
   "execution_count": 29,
   "id": "dda4bbab-7aa3-414c-8a09-6e7828954d0f",
   "metadata": {},
   "outputs": [
    {
     "data": {
      "text/html": [
       "<div>\n",
       "<style scoped>\n",
       "    .dataframe tbody tr th:only-of-type {\n",
       "        vertical-align: middle;\n",
       "    }\n",
       "\n",
       "    .dataframe tbody tr th {\n",
       "        vertical-align: top;\n",
       "    }\n",
       "\n",
       "    .dataframe thead th {\n",
       "        text-align: right;\n",
       "    }\n",
       "</style>\n",
       "<table border=\"1\" class=\"dataframe\">\n",
       "  <thead>\n",
       "    <tr style=\"text-align: right;\">\n",
       "      <th></th>\n",
       "      <th>date</th>\n",
       "      <th>cases_0_9</th>\n",
       "      <th>cases_10_19</th>\n",
       "    </tr>\n",
       "  </thead>\n",
       "  <tbody>\n",
       "    <tr>\n",
       "      <th>101</th>\n",
       "      <td>2022-03-16</td>\n",
       "      <td>222</td>\n",
       "      <td>455</td>\n",
       "    </tr>\n",
       "    <tr>\n",
       "      <th>102</th>\n",
       "      <td>2022-03-17</td>\n",
       "      <td>335</td>\n",
       "      <td>567</td>\n",
       "    </tr>\n",
       "    <tr>\n",
       "      <th>103</th>\n",
       "      <td>2022-03-18</td>\n",
       "      <td>296</td>\n",
       "      <td>455</td>\n",
       "    </tr>\n",
       "    <tr>\n",
       "      <th>104</th>\n",
       "      <td>2022-03-19</td>\n",
       "      <td>255</td>\n",
       "      <td>341</td>\n",
       "    </tr>\n",
       "    <tr>\n",
       "      <th>105</th>\n",
       "      <td>2022-03-20</td>\n",
       "      <td>206</td>\n",
       "      <td>287</td>\n",
       "    </tr>\n",
       "  </tbody>\n",
       "</table>\n",
       "</div>"
      ],
      "text/plain": [
       "           date  cases_0_9  cases_10_19\n",
       "101  2022-03-16        222          455\n",
       "102  2022-03-17        335          567\n",
       "103  2022-03-18        296          455\n",
       "104  2022-03-19        255          341\n",
       "105  2022-03-20        206          287"
      ]
     },
     "execution_count": 29,
     "metadata": {},
     "output_type": "execute_result"
    }
   ],
   "source": [
    "df_0_19.tail()"
   ]
  },
  {
   "cell_type": "code",
   "execution_count": 30,
   "id": "d6f6fd5f-fa9d-445b-a3c0-242b1739f059",
   "metadata": {},
   "outputs": [],
   "source": [
    "df_0_19.to_csv(\"../data/cases_0_19.csv\")"
   ]
  },
  {
   "cell_type": "code",
   "execution_count": null,
   "id": "0b692491-6c9d-43df-bdd4-7f40c44ee5a2",
   "metadata": {},
   "outputs": [],
   "source": []
  }
 ],
 "metadata": {
  "kernelspec": {
   "display_name": "Python 3 (ipykernel)",
   "language": "python",
   "name": "python3"
  },
  "language_info": {
   "codemirror_mode": {
    "name": "ipython",
    "version": 3
   },
   "file_extension": ".py",
   "mimetype": "text/x-python",
   "name": "python",
   "nbconvert_exporter": "python",
   "pygments_lexer": "ipython3",
   "version": "3.10.2"
  }
 },
 "nbformat": 4,
 "nbformat_minor": 5
}
