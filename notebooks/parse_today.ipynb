{
 "cells": [
  {
   "cell_type": "code",
   "execution_count": 1,
   "id": "5912f7ce-d6b0-4f52-94d5-2f3c51854c4e",
   "metadata": {},
   "outputs": [],
   "source": [
    "import pandas as pd\n",
    "from datetime import date, timedelta\n",
    "import matplotlib.pyplot as plt\n",
    "import mpld3"
   ]
  },
  {
   "cell_type": "code",
   "execution_count": 2,
   "id": "51127e94-33a2-416f-a30b-c19a14e9b75d",
   "metadata": {},
   "outputs": [],
   "source": [
    "file_path = \"https://www.dhhs.vic.gov.au/ncov-covid-cases-by-age-group-csv\"\n",
    "df = pd.read_csv(file_path)"
   ]
  },
  {
   "cell_type": "code",
   "execution_count": 3,
   "id": "b4fb534e-ed9e-40da-bb29-462a2b80b389",
   "metadata": {},
   "outputs": [
    {
     "data": {
      "text/html": [
       "<div>\n",
       "<style scoped>\n",
       "    .dataframe tbody tr th:only-of-type {\n",
       "        vertical-align: middle;\n",
       "    }\n",
       "\n",
       "    .dataframe tbody tr th {\n",
       "        vertical-align: top;\n",
       "    }\n",
       "\n",
       "    .dataframe thead th {\n",
       "        text-align: right;\n",
       "    }\n",
       "</style>\n",
       "<table border=\"1\" class=\"dataframe\">\n",
       "  <thead>\n",
       "    <tr style=\"text-align: right;\">\n",
       "      <th></th>\n",
       "      <th>diagnosis_date</th>\n",
       "      <th>agegroup</th>\n",
       "    </tr>\n",
       "  </thead>\n",
       "  <tbody>\n",
       "    <tr>\n",
       "      <th>699796</th>\n",
       "      <td>2022-03-16</td>\n",
       "      <td>20-29</td>\n",
       "    </tr>\n",
       "    <tr>\n",
       "      <th>699797</th>\n",
       "      <td>2022-03-16</td>\n",
       "      <td>60-69</td>\n",
       "    </tr>\n",
       "    <tr>\n",
       "      <th>699798</th>\n",
       "      <td>2022-03-16</td>\n",
       "      <td>40-49</td>\n",
       "    </tr>\n",
       "    <tr>\n",
       "      <th>699799</th>\n",
       "      <td>2022-03-16</td>\n",
       "      <td>0-9</td>\n",
       "    </tr>\n",
       "    <tr>\n",
       "      <th>699800</th>\n",
       "      <td>2022-03-16</td>\n",
       "      <td>70-79</td>\n",
       "    </tr>\n",
       "  </tbody>\n",
       "</table>\n",
       "</div>"
      ],
      "text/plain": [
       "       diagnosis_date agegroup\n",
       "699796     2022-03-16    20-29\n",
       "699797     2022-03-16    60-69\n",
       "699798     2022-03-16    40-49\n",
       "699799     2022-03-16      0-9\n",
       "699800     2022-03-16    70-79"
      ]
     },
     "execution_count": 3,
     "metadata": {},
     "output_type": "execute_result"
    }
   ],
   "source": [
    "df.tail()"
   ]
  },
  {
   "cell_type": "code",
   "execution_count": 4,
   "id": "b80ec17e-5ead-45fd-b216-6c8ec337cfc1",
   "metadata": {},
   "outputs": [],
   "source": [
    "df_pivot = pd.pivot_table(df, index = 'diagnosis_date', columns = 'agegroup', \n",
    "                         values = 'agegroup', aggfunc = len, fill_value = 0)"
   ]
  },
  {
   "cell_type": "code",
   "execution_count": 5,
   "id": "90f6d818-b3d8-4975-8c92-30872272a966",
   "metadata": {},
   "outputs": [
    {
     "data": {
      "text/html": [
       "<div>\n",
       "<style scoped>\n",
       "    .dataframe tbody tr th:only-of-type {\n",
       "        vertical-align: middle;\n",
       "    }\n",
       "\n",
       "    .dataframe tbody tr th {\n",
       "        vertical-align: top;\n",
       "    }\n",
       "\n",
       "    .dataframe thead th {\n",
       "        text-align: right;\n",
       "    }\n",
       "</style>\n",
       "<table border=\"1\" class=\"dataframe\">\n",
       "  <thead>\n",
       "    <tr style=\"text-align: right;\">\n",
       "      <th>agegroup</th>\n",
       "      <th>0-9</th>\n",
       "      <th>10-19_</th>\n",
       "      <th>20-29</th>\n",
       "      <th>30-39</th>\n",
       "      <th>40-49</th>\n",
       "      <th>50-59</th>\n",
       "      <th>60-69</th>\n",
       "      <th>70-79</th>\n",
       "      <th>80-89</th>\n",
       "      <th>90+</th>\n",
       "    </tr>\n",
       "    <tr>\n",
       "      <th>diagnosis_date</th>\n",
       "      <th></th>\n",
       "      <th></th>\n",
       "      <th></th>\n",
       "      <th></th>\n",
       "      <th></th>\n",
       "      <th></th>\n",
       "      <th></th>\n",
       "      <th></th>\n",
       "      <th></th>\n",
       "      <th></th>\n",
       "    </tr>\n",
       "  </thead>\n",
       "  <tbody>\n",
       "    <tr>\n",
       "      <th>2022-03-12</th>\n",
       "      <td>213</td>\n",
       "      <td>404</td>\n",
       "      <td>249</td>\n",
       "      <td>316</td>\n",
       "      <td>303</td>\n",
       "      <td>202</td>\n",
       "      <td>110</td>\n",
       "      <td>64</td>\n",
       "      <td>33</td>\n",
       "      <td>8</td>\n",
       "    </tr>\n",
       "    <tr>\n",
       "      <th>2022-03-13</th>\n",
       "      <td>173</td>\n",
       "      <td>357</td>\n",
       "      <td>227</td>\n",
       "      <td>246</td>\n",
       "      <td>275</td>\n",
       "      <td>174</td>\n",
       "      <td>94</td>\n",
       "      <td>71</td>\n",
       "      <td>15</td>\n",
       "      <td>2</td>\n",
       "    </tr>\n",
       "    <tr>\n",
       "      <th>2022-03-14</th>\n",
       "      <td>204</td>\n",
       "      <td>403</td>\n",
       "      <td>194</td>\n",
       "      <td>292</td>\n",
       "      <td>268</td>\n",
       "      <td>198</td>\n",
       "      <td>115</td>\n",
       "      <td>59</td>\n",
       "      <td>28</td>\n",
       "      <td>9</td>\n",
       "    </tr>\n",
       "    <tr>\n",
       "      <th>2022-03-15</th>\n",
       "      <td>222</td>\n",
       "      <td>455</td>\n",
       "      <td>355</td>\n",
       "      <td>362</td>\n",
       "      <td>369</td>\n",
       "      <td>249</td>\n",
       "      <td>135</td>\n",
       "      <td>78</td>\n",
       "      <td>43</td>\n",
       "      <td>9</td>\n",
       "    </tr>\n",
       "    <tr>\n",
       "      <th>2022-03-16</th>\n",
       "      <td>335</td>\n",
       "      <td>567</td>\n",
       "      <td>571</td>\n",
       "      <td>577</td>\n",
       "      <td>531</td>\n",
       "      <td>374</td>\n",
       "      <td>188</td>\n",
       "      <td>106</td>\n",
       "      <td>51</td>\n",
       "      <td>13</td>\n",
       "    </tr>\n",
       "  </tbody>\n",
       "</table>\n",
       "</div>"
      ],
      "text/plain": [
       "agegroup        0-9  10-19_  20-29  30-39  40-49  50-59  60-69  70-79  80-89  \\\n",
       "diagnosis_date                                                                 \n",
       "2022-03-12      213     404    249    316    303    202    110     64     33   \n",
       "2022-03-13      173     357    227    246    275    174     94     71     15   \n",
       "2022-03-14      204     403    194    292    268    198    115     59     28   \n",
       "2022-03-15      222     455    355    362    369    249    135     78     43   \n",
       "2022-03-16      335     567    571    577    531    374    188    106     51   \n",
       "\n",
       "agegroup        90+  \n",
       "diagnosis_date       \n",
       "2022-03-12        8  \n",
       "2022-03-13        2  \n",
       "2022-03-14        9  \n",
       "2022-03-15        9  \n",
       "2022-03-16       13  "
      ]
     },
     "execution_count": 5,
     "metadata": {},
     "output_type": "execute_result"
    }
   ],
   "source": [
    "df_pivot.tail()"
   ]
  },
  {
   "cell_type": "code",
   "execution_count": 6,
   "id": "9acc505f-27a7-4845-bf8a-1f58abf00019",
   "metadata": {},
   "outputs": [
    {
     "data": {
      "text/plain": [
       "3313"
      ]
     },
     "execution_count": 6,
     "metadata": {},
     "output_type": "execute_result"
    }
   ],
   "source": [
    "# check that the latest date's sum matches the number of cases reported by Vic govt\n",
    "# the latest row's date is always yesterday\n",
    "\n",
    "today = date.today()\n",
    "yesterday = today - timedelta(days = 1)\n",
    "\n",
    "# the dates in the pivot table are strings\n",
    "# so use isoformat() to convert date into string before looking it up in the table\n",
    "df_pivot.loc[yesterday.isoformat()].sum()"
   ]
  },
  {
   "cell_type": "code",
   "execution_count": 7,
   "id": "14809a7c-89ff-4b66-9375-300f4b7ea560",
   "metadata": {},
   "outputs": [
    {
     "data": {
      "text/html": [
       "<div>\n",
       "<style scoped>\n",
       "    .dataframe tbody tr th:only-of-type {\n",
       "        vertical-align: middle;\n",
       "    }\n",
       "\n",
       "    .dataframe tbody tr th {\n",
       "        vertical-align: top;\n",
       "    }\n",
       "\n",
       "    .dataframe thead th {\n",
       "        text-align: right;\n",
       "    }\n",
       "</style>\n",
       "<table border=\"1\" class=\"dataframe\">\n",
       "  <thead>\n",
       "    <tr style=\"text-align: right;\">\n",
       "      <th></th>\n",
       "      <th>date</th>\n",
       "      <th>cases_0_9</th>\n",
       "      <th>cases_10_19</th>\n",
       "    </tr>\n",
       "  </thead>\n",
       "  <tbody>\n",
       "    <tr>\n",
       "      <th>97</th>\n",
       "      <td>2022-03-12</td>\n",
       "      <td>251</td>\n",
       "      <td>421</td>\n",
       "    </tr>\n",
       "    <tr>\n",
       "      <th>98</th>\n",
       "      <td>2022-03-13</td>\n",
       "      <td>213</td>\n",
       "      <td>404</td>\n",
       "    </tr>\n",
       "    <tr>\n",
       "      <th>99</th>\n",
       "      <td>2022-03-14</td>\n",
       "      <td>173</td>\n",
       "      <td>357</td>\n",
       "    </tr>\n",
       "    <tr>\n",
       "      <th>100</th>\n",
       "      <td>2022-03-15</td>\n",
       "      <td>204</td>\n",
       "      <td>403</td>\n",
       "    </tr>\n",
       "    <tr>\n",
       "      <th>101</th>\n",
       "      <td>2022-03-16</td>\n",
       "      <td>222</td>\n",
       "      <td>455</td>\n",
       "    </tr>\n",
       "  </tbody>\n",
       "</table>\n",
       "</div>"
      ],
      "text/plain": [
       "           date  cases_0_9  cases_10_19\n",
       "97   2022-03-12        251          421\n",
       "98   2022-03-13        213          404\n",
       "99   2022-03-14        173          357\n",
       "100  2022-03-15        204          403\n",
       "101  2022-03-16        222          455"
      ]
     },
     "execution_count": 7,
     "metadata": {},
     "output_type": "execute_result"
    }
   ],
   "source": [
    "# open my csv containing 0-19 case numbers collected so far\n",
    "\n",
    "df_0_19 = pd.read_csv(\"../data/cases_0_19.csv\", index_col = 0)\n",
    "df_0_19.tail()"
   ]
  },
  {
   "cell_type": "code",
   "execution_count": 8,
   "id": "b44344e0-6270-4178-9fdc-0ce9e9b4fe84",
   "metadata": {},
   "outputs": [
    {
     "name": "stderr",
     "output_type": "stream",
     "text": [
      "C:\\Users\\amanj\\AppData\\Local\\Temp\\ipykernel_15164\\403421804.py:4: FutureWarning: The frame.append method is deprecated and will be removed from pandas in a future version. Use pandas.concat instead.\n",
      "  df_0_19 = df_0_19.append({'date': today.isoformat(), 'cases_0_9': df_pivot.loc[yesterday.isoformat(), '0-9'],\n"
     ]
    }
   ],
   "source": [
    "# get the latest date from pivot table, add it to my 0-19 csv, then save my csv\n",
    "# the latest date is always yesterday, because today's cases were diagnosed yesterday\n",
    "\n",
    "df_0_19 = df_0_19.append({'date': today.isoformat(), 'cases_0_9': df_pivot.loc[yesterday.isoformat(), '0-9'], \n",
    "                          'cases_10_19': df_pivot.loc[yesterday.isoformat(), '10-19_']}, ignore_index = True)"
   ]
  },
  {
   "cell_type": "code",
   "execution_count": 9,
   "id": "dda4bbab-7aa3-414c-8a09-6e7828954d0f",
   "metadata": {},
   "outputs": [
    {
     "data": {
      "text/html": [
       "<div>\n",
       "<style scoped>\n",
       "    .dataframe tbody tr th:only-of-type {\n",
       "        vertical-align: middle;\n",
       "    }\n",
       "\n",
       "    .dataframe tbody tr th {\n",
       "        vertical-align: top;\n",
       "    }\n",
       "\n",
       "    .dataframe thead th {\n",
       "        text-align: right;\n",
       "    }\n",
       "</style>\n",
       "<table border=\"1\" class=\"dataframe\">\n",
       "  <thead>\n",
       "    <tr style=\"text-align: right;\">\n",
       "      <th></th>\n",
       "      <th>date</th>\n",
       "      <th>cases_0_9</th>\n",
       "      <th>cases_10_19</th>\n",
       "    </tr>\n",
       "  </thead>\n",
       "  <tbody>\n",
       "    <tr>\n",
       "      <th>98</th>\n",
       "      <td>2022-03-13</td>\n",
       "      <td>213</td>\n",
       "      <td>404</td>\n",
       "    </tr>\n",
       "    <tr>\n",
       "      <th>99</th>\n",
       "      <td>2022-03-14</td>\n",
       "      <td>173</td>\n",
       "      <td>357</td>\n",
       "    </tr>\n",
       "    <tr>\n",
       "      <th>100</th>\n",
       "      <td>2022-03-15</td>\n",
       "      <td>204</td>\n",
       "      <td>403</td>\n",
       "    </tr>\n",
       "    <tr>\n",
       "      <th>101</th>\n",
       "      <td>2022-03-16</td>\n",
       "      <td>222</td>\n",
       "      <td>455</td>\n",
       "    </tr>\n",
       "    <tr>\n",
       "      <th>102</th>\n",
       "      <td>2022-03-17</td>\n",
       "      <td>335</td>\n",
       "      <td>567</td>\n",
       "    </tr>\n",
       "  </tbody>\n",
       "</table>\n",
       "</div>"
      ],
      "text/plain": [
       "           date  cases_0_9  cases_10_19\n",
       "98   2022-03-13        213          404\n",
       "99   2022-03-14        173          357\n",
       "100  2022-03-15        204          403\n",
       "101  2022-03-16        222          455\n",
       "102  2022-03-17        335          567"
      ]
     },
     "execution_count": 9,
     "metadata": {},
     "output_type": "execute_result"
    }
   ],
   "source": [
    "df_0_19.tail()"
   ]
  },
  {
   "cell_type": "code",
   "execution_count": 10,
   "id": "d6f6fd5f-fa9d-445b-a3c0-242b1739f059",
   "metadata": {},
   "outputs": [],
   "source": [
    "df_0_19.to_csv(\"../data/cases_0_19.csv\")"
   ]
  },
  {
   "cell_type": "code",
   "execution_count": null,
   "id": "0b692491-6c9d-43df-bdd4-7f40c44ee5a2",
   "metadata": {},
   "outputs": [],
   "source": []
  }
 ],
 "metadata": {
  "kernelspec": {
   "display_name": "Python 3 (ipykernel)",
   "language": "python",
   "name": "python3"
  },
  "language_info": {
   "codemirror_mode": {
    "name": "ipython",
    "version": 3
   },
   "file_extension": ".py",
   "mimetype": "text/x-python",
   "name": "python",
   "nbconvert_exporter": "python",
   "pygments_lexer": "ipython3",
   "version": "3.10.2"
  }
 },
 "nbformat": 4,
 "nbformat_minor": 5
}
