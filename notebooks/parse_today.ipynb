{
 "cells": [
  {
   "cell_type": "code",
   "execution_count": 41,
   "id": "5912f7ce-d6b0-4f52-94d5-2f3c51854c4e",
   "metadata": {},
   "outputs": [],
   "source": [
    "import pandas as pd\n",
    "from datetime import date, timedelta\n",
    "import matplotlib.pyplot as plt\n",
    "import mpld3"
   ]
  },
  {
   "cell_type": "code",
   "execution_count": 42,
   "id": "51127e94-33a2-416f-a30b-c19a14e9b75d",
   "metadata": {},
   "outputs": [],
   "source": [
    "file_path = \"https://www.dhhs.vic.gov.au/ncov-covid-cases-by-age-group-csv\"\n",
    "df = pd.read_csv(file_path)"
   ]
  },
  {
   "cell_type": "code",
   "execution_count": 43,
   "id": "b4fb534e-ed9e-40da-bb29-462a2b80b389",
   "metadata": {},
   "outputs": [
    {
     "data": {
      "text/html": [
       "<div>\n",
       "<style scoped>\n",
       "    .dataframe tbody tr th:only-of-type {\n",
       "        vertical-align: middle;\n",
       "    }\n",
       "\n",
       "    .dataframe tbody tr th {\n",
       "        vertical-align: top;\n",
       "    }\n",
       "\n",
       "    .dataframe thead th {\n",
       "        text-align: right;\n",
       "    }\n",
       "</style>\n",
       "<table border=\"1\" class=\"dataframe\">\n",
       "  <thead>\n",
       "    <tr style=\"text-align: right;\">\n",
       "      <th></th>\n",
       "      <th>diagnosis_date</th>\n",
       "      <th>agegroup</th>\n",
       "    </tr>\n",
       "  </thead>\n",
       "  <tbody>\n",
       "    <tr>\n",
       "      <th>717265</th>\n",
       "      <td>2022-03-22</td>\n",
       "      <td>40-49</td>\n",
       "    </tr>\n",
       "    <tr>\n",
       "      <th>717266</th>\n",
       "      <td>2022-03-22</td>\n",
       "      <td>40-49</td>\n",
       "    </tr>\n",
       "    <tr>\n",
       "      <th>717267</th>\n",
       "      <td>2022-03-22</td>\n",
       "      <td>0-9</td>\n",
       "    </tr>\n",
       "    <tr>\n",
       "      <th>717268</th>\n",
       "      <td>2022-03-22</td>\n",
       "      <td>40-49</td>\n",
       "    </tr>\n",
       "    <tr>\n",
       "      <th>717269</th>\n",
       "      <td>2022-03-22</td>\n",
       "      <td>20-29</td>\n",
       "    </tr>\n",
       "  </tbody>\n",
       "</table>\n",
       "</div>"
      ],
      "text/plain": [
       "       diagnosis_date agegroup\n",
       "717265     2022-03-22    40-49\n",
       "717266     2022-03-22    40-49\n",
       "717267     2022-03-22      0-9\n",
       "717268     2022-03-22    40-49\n",
       "717269     2022-03-22    20-29"
      ]
     },
     "execution_count": 43,
     "metadata": {},
     "output_type": "execute_result"
    }
   ],
   "source": [
    "df.tail()"
   ]
  },
  {
   "cell_type": "code",
   "execution_count": 44,
   "id": "b80ec17e-5ead-45fd-b216-6c8ec337cfc1",
   "metadata": {},
   "outputs": [],
   "source": [
    "df_pivot = pd.pivot_table(df, index = 'diagnosis_date', columns = 'agegroup', \n",
    "                         values = 'agegroup', aggfunc = len, fill_value = 0)"
   ]
  },
  {
   "cell_type": "code",
   "execution_count": 45,
   "id": "90f6d818-b3d8-4975-8c92-30872272a966",
   "metadata": {},
   "outputs": [
    {
     "data": {
      "text/html": [
       "<div>\n",
       "<style scoped>\n",
       "    .dataframe tbody tr th:only-of-type {\n",
       "        vertical-align: middle;\n",
       "    }\n",
       "\n",
       "    .dataframe tbody tr th {\n",
       "        vertical-align: top;\n",
       "    }\n",
       "\n",
       "    .dataframe thead th {\n",
       "        text-align: right;\n",
       "    }\n",
       "</style>\n",
       "<table border=\"1\" class=\"dataframe\">\n",
       "  <thead>\n",
       "    <tr style=\"text-align: right;\">\n",
       "      <th>agegroup</th>\n",
       "      <th>0-9</th>\n",
       "      <th>10-19_</th>\n",
       "      <th>20-29</th>\n",
       "      <th>30-39</th>\n",
       "      <th>40-49</th>\n",
       "      <th>50-59</th>\n",
       "      <th>60-69</th>\n",
       "      <th>70-79</th>\n",
       "      <th>80-89</th>\n",
       "      <th>90+</th>\n",
       "    </tr>\n",
       "    <tr>\n",
       "      <th>diagnosis_date</th>\n",
       "      <th></th>\n",
       "      <th></th>\n",
       "      <th></th>\n",
       "      <th></th>\n",
       "      <th></th>\n",
       "      <th></th>\n",
       "      <th></th>\n",
       "      <th></th>\n",
       "      <th></th>\n",
       "      <th></th>\n",
       "    </tr>\n",
       "  </thead>\n",
       "  <tbody>\n",
       "    <tr>\n",
       "      <th>2022-03-18</th>\n",
       "      <td>288</td>\n",
       "      <td>389</td>\n",
       "      <td>581</td>\n",
       "      <td>520</td>\n",
       "      <td>457</td>\n",
       "      <td>306</td>\n",
       "      <td>200</td>\n",
       "      <td>123</td>\n",
       "      <td>46</td>\n",
       "      <td>18</td>\n",
       "    </tr>\n",
       "    <tr>\n",
       "      <th>2022-03-19</th>\n",
       "      <td>225</td>\n",
       "      <td>333</td>\n",
       "      <td>419</td>\n",
       "      <td>425</td>\n",
       "      <td>388</td>\n",
       "      <td>261</td>\n",
       "      <td>194</td>\n",
       "      <td>110</td>\n",
       "      <td>44</td>\n",
       "      <td>16</td>\n",
       "    </tr>\n",
       "    <tr>\n",
       "      <th>2022-03-20</th>\n",
       "      <td>220</td>\n",
       "      <td>346</td>\n",
       "      <td>333</td>\n",
       "      <td>362</td>\n",
       "      <td>319</td>\n",
       "      <td>226</td>\n",
       "      <td>150</td>\n",
       "      <td>90</td>\n",
       "      <td>34</td>\n",
       "      <td>5</td>\n",
       "    </tr>\n",
       "    <tr>\n",
       "      <th>2022-03-21</th>\n",
       "      <td>241</td>\n",
       "      <td>354</td>\n",
       "      <td>376</td>\n",
       "      <td>448</td>\n",
       "      <td>399</td>\n",
       "      <td>295</td>\n",
       "      <td>194</td>\n",
       "      <td>117</td>\n",
       "      <td>47</td>\n",
       "      <td>18</td>\n",
       "    </tr>\n",
       "    <tr>\n",
       "      <th>2022-03-22</th>\n",
       "      <td>313</td>\n",
       "      <td>498</td>\n",
       "      <td>593</td>\n",
       "      <td>624</td>\n",
       "      <td>501</td>\n",
       "      <td>387</td>\n",
       "      <td>257</td>\n",
       "      <td>152</td>\n",
       "      <td>63</td>\n",
       "      <td>17</td>\n",
       "    </tr>\n",
       "  </tbody>\n",
       "</table>\n",
       "</div>"
      ],
      "text/plain": [
       "agegroup        0-9  10-19_  20-29  30-39  40-49  50-59  60-69  70-79  80-89  \\\n",
       "diagnosis_date                                                                 \n",
       "2022-03-18      288     389    581    520    457    306    200    123     46   \n",
       "2022-03-19      225     333    419    425    388    261    194    110     44   \n",
       "2022-03-20      220     346    333    362    319    226    150     90     34   \n",
       "2022-03-21      241     354    376    448    399    295    194    117     47   \n",
       "2022-03-22      313     498    593    624    501    387    257    152     63   \n",
       "\n",
       "agegroup        90+  \n",
       "diagnosis_date       \n",
       "2022-03-18       18  \n",
       "2022-03-19       16  \n",
       "2022-03-20        5  \n",
       "2022-03-21       18  \n",
       "2022-03-22       17  "
      ]
     },
     "execution_count": 45,
     "metadata": {},
     "output_type": "execute_result"
    }
   ],
   "source": [
    "df_pivot.tail()"
   ]
  },
  {
   "cell_type": "code",
   "execution_count": 46,
   "id": "9acc505f-27a7-4845-bf8a-1f58abf00019",
   "metadata": {},
   "outputs": [
    {
     "data": {
      "text/plain": [
       "3405"
      ]
     },
     "execution_count": 46,
     "metadata": {},
     "output_type": "execute_result"
    }
   ],
   "source": [
    "# check that the latest date's sum matches the number of cases reported by Vic govt\n",
    "# the latest row's date is always yesterday\n",
    "\n",
    "today = date.today()\n",
    "yesterday = today - timedelta(days = 1)\n",
    "\n",
    "# the dates in the pivot table are strings\n",
    "# so use isoformat() to convert date into string before looking it up in the table\n",
    "df_pivot.loc[yesterday.isoformat()].sum()"
   ]
  },
  {
   "cell_type": "code",
   "execution_count": 47,
   "id": "14809a7c-89ff-4b66-9375-300f4b7ea560",
   "metadata": {},
   "outputs": [
    {
     "data": {
      "text/html": [
       "<div>\n",
       "<style scoped>\n",
       "    .dataframe tbody tr th:only-of-type {\n",
       "        vertical-align: middle;\n",
       "    }\n",
       "\n",
       "    .dataframe tbody tr th {\n",
       "        vertical-align: top;\n",
       "    }\n",
       "\n",
       "    .dataframe thead th {\n",
       "        text-align: right;\n",
       "    }\n",
       "</style>\n",
       "<table border=\"1\" class=\"dataframe\">\n",
       "  <thead>\n",
       "    <tr style=\"text-align: right;\">\n",
       "      <th></th>\n",
       "      <th>date</th>\n",
       "      <th>cases_0_9</th>\n",
       "      <th>cases_10_19</th>\n",
       "    </tr>\n",
       "  </thead>\n",
       "  <tbody>\n",
       "    <tr>\n",
       "      <th>103</th>\n",
       "      <td>2022-03-18</td>\n",
       "      <td>315</td>\n",
       "      <td>493</td>\n",
       "    </tr>\n",
       "    <tr>\n",
       "      <th>104</th>\n",
       "      <td>2022-03-19</td>\n",
       "      <td>288</td>\n",
       "      <td>389</td>\n",
       "    </tr>\n",
       "    <tr>\n",
       "      <th>105</th>\n",
       "      <td>2022-03-20</td>\n",
       "      <td>225</td>\n",
       "      <td>333</td>\n",
       "    </tr>\n",
       "    <tr>\n",
       "      <th>106</th>\n",
       "      <td>2022-03-21</td>\n",
       "      <td>220</td>\n",
       "      <td>346</td>\n",
       "    </tr>\n",
       "    <tr>\n",
       "      <th>107</th>\n",
       "      <td>2022-03-22</td>\n",
       "      <td>241</td>\n",
       "      <td>354</td>\n",
       "    </tr>\n",
       "  </tbody>\n",
       "</table>\n",
       "</div>"
      ],
      "text/plain": [
       "           date  cases_0_9  cases_10_19\n",
       "103  2022-03-18        315          493\n",
       "104  2022-03-19        288          389\n",
       "105  2022-03-20        225          333\n",
       "106  2022-03-21        220          346\n",
       "107  2022-03-22        241          354"
      ]
     },
     "execution_count": 47,
     "metadata": {},
     "output_type": "execute_result"
    }
   ],
   "source": [
    "# open my csv containing 0-19 case numbers collected so far\n",
    "\n",
    "df_0_19 = pd.read_csv(\"../data/cases_0_19.csv\", index_col = 0)\n",
    "df_0_19.tail()"
   ]
  },
  {
   "cell_type": "code",
   "execution_count": 48,
   "id": "b44344e0-6270-4178-9fdc-0ce9e9b4fe84",
   "metadata": {},
   "outputs": [
    {
     "name": "stderr",
     "output_type": "stream",
     "text": [
      "C:\\Users\\amanj\\AppData\\Local\\Temp\\ipykernel_7988\\403421804.py:4: FutureWarning: The frame.append method is deprecated and will be removed from pandas in a future version. Use pandas.concat instead.\n",
      "  df_0_19 = df_0_19.append({'date': today.isoformat(), 'cases_0_9': df_pivot.loc[yesterday.isoformat(), '0-9'],\n"
     ]
    }
   ],
   "source": [
    "# get the latest date from pivot table, add it to my 0-19 csv, then save my csv\n",
    "# the latest date is always yesterday, because today's cases were diagnosed yesterday\n",
    "\n",
    "df_0_19 = df_0_19.append({'date': today.isoformat(), 'cases_0_9': df_pivot.loc[yesterday.isoformat(), '0-9'], \n",
    "                          'cases_10_19': df_pivot.loc[yesterday.isoformat(), '10-19_']}, ignore_index = True)"
   ]
  },
  {
   "cell_type": "code",
   "execution_count": 49,
   "id": "dda4bbab-7aa3-414c-8a09-6e7828954d0f",
   "metadata": {},
   "outputs": [
    {
     "data": {
      "text/html": [
       "<div>\n",
       "<style scoped>\n",
       "    .dataframe tbody tr th:only-of-type {\n",
       "        vertical-align: middle;\n",
       "    }\n",
       "\n",
       "    .dataframe tbody tr th {\n",
       "        vertical-align: top;\n",
       "    }\n",
       "\n",
       "    .dataframe thead th {\n",
       "        text-align: right;\n",
       "    }\n",
       "</style>\n",
       "<table border=\"1\" class=\"dataframe\">\n",
       "  <thead>\n",
       "    <tr style=\"text-align: right;\">\n",
       "      <th></th>\n",
       "      <th>date</th>\n",
       "      <th>cases_0_9</th>\n",
       "      <th>cases_10_19</th>\n",
       "    </tr>\n",
       "  </thead>\n",
       "  <tbody>\n",
       "    <tr>\n",
       "      <th>104</th>\n",
       "      <td>2022-03-19</td>\n",
       "      <td>288</td>\n",
       "      <td>389</td>\n",
       "    </tr>\n",
       "    <tr>\n",
       "      <th>105</th>\n",
       "      <td>2022-03-20</td>\n",
       "      <td>225</td>\n",
       "      <td>333</td>\n",
       "    </tr>\n",
       "    <tr>\n",
       "      <th>106</th>\n",
       "      <td>2022-03-21</td>\n",
       "      <td>220</td>\n",
       "      <td>346</td>\n",
       "    </tr>\n",
       "    <tr>\n",
       "      <th>107</th>\n",
       "      <td>2022-03-22</td>\n",
       "      <td>241</td>\n",
       "      <td>354</td>\n",
       "    </tr>\n",
       "    <tr>\n",
       "      <th>108</th>\n",
       "      <td>2022-03-23</td>\n",
       "      <td>313</td>\n",
       "      <td>498</td>\n",
       "    </tr>\n",
       "  </tbody>\n",
       "</table>\n",
       "</div>"
      ],
      "text/plain": [
       "           date  cases_0_9  cases_10_19\n",
       "104  2022-03-19        288          389\n",
       "105  2022-03-20        225          333\n",
       "106  2022-03-21        220          346\n",
       "107  2022-03-22        241          354\n",
       "108  2022-03-23        313          498"
      ]
     },
     "execution_count": 49,
     "metadata": {},
     "output_type": "execute_result"
    }
   ],
   "source": [
    "df_0_19.tail()"
   ]
  },
  {
   "cell_type": "code",
   "execution_count": 50,
   "id": "d6f6fd5f-fa9d-445b-a3c0-242b1739f059",
   "metadata": {},
   "outputs": [],
   "source": [
    "df_0_19.to_csv(\"../data/cases_0_19.csv\")"
   ]
  },
  {
   "cell_type": "code",
   "execution_count": null,
   "id": "0b692491-6c9d-43df-bdd4-7f40c44ee5a2",
   "metadata": {},
   "outputs": [],
   "source": []
  }
 ],
 "metadata": {
  "kernelspec": {
   "display_name": "Python 3 (ipykernel)",
   "language": "python",
   "name": "python3"
  },
  "language_info": {
   "codemirror_mode": {
    "name": "ipython",
    "version": 3
   },
   "file_extension": ".py",
   "mimetype": "text/x-python",
   "name": "python",
   "nbconvert_exporter": "python",
   "pygments_lexer": "ipython3",
   "version": "3.10.2"
  }
 },
 "nbformat": 4,
 "nbformat_minor": 5
}
