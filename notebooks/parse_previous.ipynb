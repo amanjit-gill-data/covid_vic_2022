{
 "cells": [
  {
   "cell_type": "code",
   "execution_count": 1,
   "id": "ae036c77-9131-41a0-973f-37e311d64772",
   "metadata": {},
   "outputs": [],
   "source": [
    "import pandas as pd\n",
    "from datetime import date, timedelta"
   ]
  },
  {
   "cell_type": "code",
   "execution_count": 2,
   "id": "5b87edf8-52a5-4511-9f67-40a9aa15a547",
   "metadata": {},
   "outputs": [],
   "source": [
    "file_path = \"https://www.dhhs.vic.gov.au/ncov-covid-cases-by-age-group-csv\"\n",
    "df = pd.read_csv(file_path)"
   ]
  },
  {
   "cell_type": "code",
   "execution_count": 3,
   "id": "8c5f8dce-c879-4e87-a274-01bde164d712",
   "metadata": {},
   "outputs": [
    {
     "data": {
      "text/html": [
       "<div>\n",
       "<style scoped>\n",
       "    .dataframe tbody tr th:only-of-type {\n",
       "        vertical-align: middle;\n",
       "    }\n",
       "\n",
       "    .dataframe tbody tr th {\n",
       "        vertical-align: top;\n",
       "    }\n",
       "\n",
       "    .dataframe thead th {\n",
       "        text-align: right;\n",
       "    }\n",
       "</style>\n",
       "<table border=\"1\" class=\"dataframe\">\n",
       "  <thead>\n",
       "    <tr style=\"text-align: right;\">\n",
       "      <th></th>\n",
       "      <th>diagnosis_date</th>\n",
       "      <th>agegroup</th>\n",
       "    </tr>\n",
       "  </thead>\n",
       "  <tbody>\n",
       "    <tr>\n",
       "      <th>622732</th>\n",
       "      <td>2022-02-11</td>\n",
       "      <td>30-39</td>\n",
       "    </tr>\n",
       "    <tr>\n",
       "      <th>622733</th>\n",
       "      <td>2022-02-11</td>\n",
       "      <td>50-59</td>\n",
       "    </tr>\n",
       "    <tr>\n",
       "      <th>622734</th>\n",
       "      <td>2022-02-11</td>\n",
       "      <td>80-89</td>\n",
       "    </tr>\n",
       "    <tr>\n",
       "      <th>622735</th>\n",
       "      <td>2022-02-11</td>\n",
       "      <td>90+</td>\n",
       "    </tr>\n",
       "    <tr>\n",
       "      <th>622736</th>\n",
       "      <td>2022-02-11</td>\n",
       "      <td>40-49</td>\n",
       "    </tr>\n",
       "  </tbody>\n",
       "</table>\n",
       "</div>"
      ],
      "text/plain": [
       "       diagnosis_date agegroup\n",
       "622732     2022-02-11    30-39\n",
       "622733     2022-02-11    50-59\n",
       "622734     2022-02-11    80-89\n",
       "622735     2022-02-11      90+\n",
       "622736     2022-02-11    40-49"
      ]
     },
     "execution_count": 3,
     "metadata": {},
     "output_type": "execute_result"
    }
   ],
   "source": [
    "df.tail()"
   ]
  },
  {
   "cell_type": "code",
   "execution_count": 4,
   "id": "5342293b-0abf-449b-bb2e-d6d9901d90d1",
   "metadata": {},
   "outputs": [],
   "source": [
    "df_pivot = pd.pivot_table(df, index = 'diagnosis_date', columns = 'agegroup', \n",
    "                         values = 'agegroup', aggfunc = len, fill_value = 0)"
   ]
  },
  {
   "cell_type": "code",
   "execution_count": 5,
   "id": "49501847-0700-4e2c-a799-4d3fa68a4f04",
   "metadata": {},
   "outputs": [
    {
     "data": {
      "text/html": [
       "<div>\n",
       "<style scoped>\n",
       "    .dataframe tbody tr th:only-of-type {\n",
       "        vertical-align: middle;\n",
       "    }\n",
       "\n",
       "    .dataframe tbody tr th {\n",
       "        vertical-align: top;\n",
       "    }\n",
       "\n",
       "    .dataframe thead th {\n",
       "        text-align: right;\n",
       "    }\n",
       "</style>\n",
       "<table border=\"1\" class=\"dataframe\">\n",
       "  <thead>\n",
       "    <tr style=\"text-align: right;\">\n",
       "      <th>agegroup</th>\n",
       "      <th>0-9</th>\n",
       "      <th>10-19_</th>\n",
       "      <th>20-29</th>\n",
       "      <th>30-39</th>\n",
       "      <th>40-49</th>\n",
       "      <th>50-59</th>\n",
       "      <th>60-69</th>\n",
       "      <th>70-79</th>\n",
       "      <th>80-89</th>\n",
       "      <th>90+</th>\n",
       "    </tr>\n",
       "    <tr>\n",
       "      <th>diagnosis_date</th>\n",
       "      <th></th>\n",
       "      <th></th>\n",
       "      <th></th>\n",
       "      <th></th>\n",
       "      <th></th>\n",
       "      <th></th>\n",
       "      <th></th>\n",
       "      <th></th>\n",
       "      <th></th>\n",
       "      <th></th>\n",
       "    </tr>\n",
       "  </thead>\n",
       "  <tbody>\n",
       "    <tr>\n",
       "      <th>2022-02-07</th>\n",
       "      <td>603</td>\n",
       "      <td>449</td>\n",
       "      <td>426</td>\n",
       "      <td>559</td>\n",
       "      <td>380</td>\n",
       "      <td>233</td>\n",
       "      <td>153</td>\n",
       "      <td>87</td>\n",
       "      <td>42</td>\n",
       "      <td>25</td>\n",
       "    </tr>\n",
       "    <tr>\n",
       "      <th>2022-02-08</th>\n",
       "      <td>682</td>\n",
       "      <td>586</td>\n",
       "      <td>592</td>\n",
       "      <td>737</td>\n",
       "      <td>556</td>\n",
       "      <td>315</td>\n",
       "      <td>218</td>\n",
       "      <td>109</td>\n",
       "      <td>59</td>\n",
       "      <td>18</td>\n",
       "    </tr>\n",
       "    <tr>\n",
       "      <th>2022-02-09</th>\n",
       "      <td>559</td>\n",
       "      <td>534</td>\n",
       "      <td>570</td>\n",
       "      <td>691</td>\n",
       "      <td>545</td>\n",
       "      <td>315</td>\n",
       "      <td>207</td>\n",
       "      <td>106</td>\n",
       "      <td>55</td>\n",
       "      <td>18</td>\n",
       "    </tr>\n",
       "    <tr>\n",
       "      <th>2022-02-10</th>\n",
       "      <td>533</td>\n",
       "      <td>461</td>\n",
       "      <td>498</td>\n",
       "      <td>681</td>\n",
       "      <td>471</td>\n",
       "      <td>296</td>\n",
       "      <td>189</td>\n",
       "      <td>109</td>\n",
       "      <td>48</td>\n",
       "      <td>26</td>\n",
       "    </tr>\n",
       "    <tr>\n",
       "      <th>2022-02-11</th>\n",
       "      <td>424</td>\n",
       "      <td>395</td>\n",
       "      <td>314</td>\n",
       "      <td>472</td>\n",
       "      <td>381</td>\n",
       "      <td>250</td>\n",
       "      <td>162</td>\n",
       "      <td>88</td>\n",
       "      <td>46</td>\n",
       "      <td>13</td>\n",
       "    </tr>\n",
       "  </tbody>\n",
       "</table>\n",
       "</div>"
      ],
      "text/plain": [
       "agegroup        0-9  10-19_  20-29  30-39  40-49  50-59  60-69  70-79  80-89  \\\n",
       "diagnosis_date                                                                 \n",
       "2022-02-07      603     449    426    559    380    233    153     87     42   \n",
       "2022-02-08      682     586    592    737    556    315    218    109     59   \n",
       "2022-02-09      559     534    570    691    545    315    207    106     55   \n",
       "2022-02-10      533     461    498    681    471    296    189    109     48   \n",
       "2022-02-11      424     395    314    472    381    250    162     88     46   \n",
       "\n",
       "agegroup        90+  \n",
       "diagnosis_date       \n",
       "2022-02-07       25  \n",
       "2022-02-08       18  \n",
       "2022-02-09       18  \n",
       "2022-02-10       26  \n",
       "2022-02-11       13  "
      ]
     },
     "execution_count": 5,
     "metadata": {},
     "output_type": "execute_result"
    }
   ],
   "source": [
    "df_pivot.tail()"
   ]
  },
  {
   "cell_type": "code",
   "execution_count": 6,
   "id": "f87acb65-1551-4323-bec5-90fc2003e776",
   "metadata": {},
   "outputs": [
    {
     "data": {
      "text/plain": [
       "2545"
      ]
     },
     "execution_count": 6,
     "metadata": {},
     "output_type": "execute_result"
    }
   ],
   "source": [
    "# check that the latest date's sum matches the number of cases reported by Vic govt\n",
    "# the latest row's date is always yesterday\n",
    "\n",
    "yesterday = date.today() - timedelta(days = 1)\n",
    "\n",
    "# the dates in the pivot table are strings\n",
    "# so use isoformat() to convert date into string before looking it up in the table\n",
    "df_pivot.loc[yesterday.isoformat()].sum()"
   ]
  },
  {
   "cell_type": "code",
   "execution_count": 7,
   "id": "461f5959-98a6-4fdb-9e5e-feccb969a08d",
   "metadata": {},
   "outputs": [],
   "source": [
    "# take only the 0-9 and 10-19 cases, from 5 Dec onwards\n",
    "# for each date, store the previous date's cases; this matches what I've done for NSW\n",
    "# eg. on 8 Dec, the Vic cases are those reported on the 7th\n",
    "\n",
    "first = date(2021, 12, 5)\n",
    "today = date.today()\n",
    "\n",
    "df_0_19 = pd.DataFrame(columns = ['date', 'cases_0_9', 'cases_10_19'])\n",
    "\n",
    "curr = first\n",
    "prev = first - timedelta(days = 1)\n",
    "\n",
    "while (curr < today):\n",
    "    \n",
    "        df_0_19 = df_0_19.append({'date': curr.isoformat(), 'cases_0_9': df_pivot.loc[prev.isoformat(), '0-9'], \n",
    "                                  'cases_10_19': df_pivot.loc[prev.isoformat(), '10-19_']}, ignore_index = True)\n",
    "        prev = curr\n",
    "        curr = curr + timedelta(days = 1)"
   ]
  },
  {
   "cell_type": "code",
   "execution_count": 8,
   "id": "ce869ec6-ff19-45ec-95ab-55b9ba45eaa8",
   "metadata": {},
   "outputs": [
    {
     "data": {
      "text/html": [
       "<div>\n",
       "<style scoped>\n",
       "    .dataframe tbody tr th:only-of-type {\n",
       "        vertical-align: middle;\n",
       "    }\n",
       "\n",
       "    .dataframe tbody tr th {\n",
       "        vertical-align: top;\n",
       "    }\n",
       "\n",
       "    .dataframe thead th {\n",
       "        text-align: right;\n",
       "    }\n",
       "</style>\n",
       "<table border=\"1\" class=\"dataframe\">\n",
       "  <thead>\n",
       "    <tr style=\"text-align: right;\">\n",
       "      <th></th>\n",
       "      <th>date</th>\n",
       "      <th>cases_0_9</th>\n",
       "      <th>cases_10_19</th>\n",
       "    </tr>\n",
       "  </thead>\n",
       "  <tbody>\n",
       "    <tr>\n",
       "      <th>64</th>\n",
       "      <td>2022-02-07</td>\n",
       "      <td>491</td>\n",
       "      <td>373</td>\n",
       "    </tr>\n",
       "    <tr>\n",
       "      <th>65</th>\n",
       "      <td>2022-02-08</td>\n",
       "      <td>603</td>\n",
       "      <td>449</td>\n",
       "    </tr>\n",
       "    <tr>\n",
       "      <th>66</th>\n",
       "      <td>2022-02-09</td>\n",
       "      <td>682</td>\n",
       "      <td>586</td>\n",
       "    </tr>\n",
       "    <tr>\n",
       "      <th>67</th>\n",
       "      <td>2022-02-10</td>\n",
       "      <td>559</td>\n",
       "      <td>534</td>\n",
       "    </tr>\n",
       "    <tr>\n",
       "      <th>68</th>\n",
       "      <td>2022-02-11</td>\n",
       "      <td>533</td>\n",
       "      <td>461</td>\n",
       "    </tr>\n",
       "  </tbody>\n",
       "</table>\n",
       "</div>"
      ],
      "text/plain": [
       "          date cases_0_9 cases_10_19\n",
       "64  2022-02-07       491         373\n",
       "65  2022-02-08       603         449\n",
       "66  2022-02-09       682         586\n",
       "67  2022-02-10       559         534\n",
       "68  2022-02-11       533         461"
      ]
     },
     "execution_count": 8,
     "metadata": {},
     "output_type": "execute_result"
    }
   ],
   "source": [
    "df_0_19.tail()"
   ]
  },
  {
   "cell_type": "code",
   "execution_count": 9,
   "id": "a547c987-ea91-4021-80fd-02424d61efde",
   "metadata": {},
   "outputs": [],
   "source": [
    "df_0_19.to_csv(\"../data/cases_0_19.csv\")"
   ]
  },
  {
   "cell_type": "code",
   "execution_count": null,
   "id": "23ad468b-88ec-495b-86fa-854dd253e3be",
   "metadata": {},
   "outputs": [],
   "source": []
  }
 ],
 "metadata": {
  "kernelspec": {
   "display_name": "Python 3 (ipykernel)",
   "language": "python",
   "name": "python3"
  },
  "language_info": {
   "codemirror_mode": {
    "name": "ipython",
    "version": 3
   },
   "file_extension": ".py",
   "mimetype": "text/x-python",
   "name": "python",
   "nbconvert_exporter": "python",
   "pygments_lexer": "ipython3",
   "version": "3.8.12"
  }
 },
 "nbformat": 4,
 "nbformat_minor": 5
}
