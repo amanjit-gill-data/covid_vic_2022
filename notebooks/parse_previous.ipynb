{
 "cells": [
  {
   "cell_type": "code",
   "execution_count": 31,
   "id": "ae036c77-9131-41a0-973f-37e311d64772",
   "metadata": {},
   "outputs": [],
   "source": [
    "import pandas as pd\n",
    "from datetime import date, timedelta"
   ]
  },
  {
   "cell_type": "code",
   "execution_count": 32,
   "id": "5b87edf8-52a5-4511-9f67-40a9aa15a547",
   "metadata": {},
   "outputs": [],
   "source": [
    "file_path = \"https://www.dhhs.vic.gov.au/ncov-covid-cases-by-age-group-csv\"\n",
    "df = pd.read_csv(file_path)"
   ]
  },
  {
   "cell_type": "code",
   "execution_count": 33,
   "id": "8c5f8dce-c879-4e87-a274-01bde164d712",
   "metadata": {},
   "outputs": [
    {
     "data": {
      "text/html": [
       "<div>\n",
       "<style scoped>\n",
       "    .dataframe tbody tr th:only-of-type {\n",
       "        vertical-align: middle;\n",
       "    }\n",
       "\n",
       "    .dataframe tbody tr th {\n",
       "        vertical-align: top;\n",
       "    }\n",
       "\n",
       "    .dataframe thead th {\n",
       "        text-align: right;\n",
       "    }\n",
       "</style>\n",
       "<table border=\"1\" class=\"dataframe\">\n",
       "  <thead>\n",
       "    <tr style=\"text-align: right;\">\n",
       "      <th></th>\n",
       "      <th>diagnosis_date</th>\n",
       "      <th>agegroup</th>\n",
       "    </tr>\n",
       "  </thead>\n",
       "  <tbody>\n",
       "    <tr>\n",
       "      <th>677917</th>\n",
       "      <td>2022-03-06</td>\n",
       "      <td>60-69</td>\n",
       "    </tr>\n",
       "    <tr>\n",
       "      <th>677918</th>\n",
       "      <td>2022-03-06</td>\n",
       "      <td>50-59</td>\n",
       "    </tr>\n",
       "    <tr>\n",
       "      <th>677919</th>\n",
       "      <td>2022-03-06</td>\n",
       "      <td>40-49</td>\n",
       "    </tr>\n",
       "    <tr>\n",
       "      <th>677920</th>\n",
       "      <td>2022-03-06</td>\n",
       "      <td>10-19_</td>\n",
       "    </tr>\n",
       "    <tr>\n",
       "      <th>677921</th>\n",
       "      <td>2022-03-06</td>\n",
       "      <td>10-19_</td>\n",
       "    </tr>\n",
       "  </tbody>\n",
       "</table>\n",
       "</div>"
      ],
      "text/plain": [
       "       diagnosis_date agegroup\n",
       "677917     2022-03-06    60-69\n",
       "677918     2022-03-06    50-59\n",
       "677919     2022-03-06    40-49\n",
       "677920     2022-03-06   10-19_\n",
       "677921     2022-03-06   10-19_"
      ]
     },
     "execution_count": 33,
     "metadata": {},
     "output_type": "execute_result"
    }
   ],
   "source": [
    "df.tail()"
   ]
  },
  {
   "cell_type": "code",
   "execution_count": 34,
   "id": "5342293b-0abf-449b-bb2e-d6d9901d90d1",
   "metadata": {},
   "outputs": [],
   "source": [
    "df_pivot = pd.pivot_table(df, index = 'diagnosis_date', columns = 'agegroup', \n",
    "                         values = 'agegroup', aggfunc = len, fill_value = 0)"
   ]
  },
  {
   "cell_type": "code",
   "execution_count": 35,
   "id": "49501847-0700-4e2c-a799-4d3fa68a4f04",
   "metadata": {},
   "outputs": [
    {
     "data": {
      "text/html": [
       "<div>\n",
       "<style scoped>\n",
       "    .dataframe tbody tr th:only-of-type {\n",
       "        vertical-align: middle;\n",
       "    }\n",
       "\n",
       "    .dataframe tbody tr th {\n",
       "        vertical-align: top;\n",
       "    }\n",
       "\n",
       "    .dataframe thead th {\n",
       "        text-align: right;\n",
       "    }\n",
       "</style>\n",
       "<table border=\"1\" class=\"dataframe\">\n",
       "  <thead>\n",
       "    <tr style=\"text-align: right;\">\n",
       "      <th>agegroup</th>\n",
       "      <th>0-9</th>\n",
       "      <th>10-19_</th>\n",
       "      <th>20-29</th>\n",
       "      <th>30-39</th>\n",
       "      <th>40-49</th>\n",
       "      <th>50-59</th>\n",
       "      <th>60-69</th>\n",
       "      <th>70-79</th>\n",
       "      <th>80-89</th>\n",
       "      <th>90+</th>\n",
       "    </tr>\n",
       "    <tr>\n",
       "      <th>diagnosis_date</th>\n",
       "      <th></th>\n",
       "      <th></th>\n",
       "      <th></th>\n",
       "      <th></th>\n",
       "      <th></th>\n",
       "      <th></th>\n",
       "      <th></th>\n",
       "      <th></th>\n",
       "      <th></th>\n",
       "      <th></th>\n",
       "    </tr>\n",
       "  </thead>\n",
       "  <tbody>\n",
       "    <tr>\n",
       "      <th>2022-03-03</th>\n",
       "      <td>296</td>\n",
       "      <td>504</td>\n",
       "      <td>452</td>\n",
       "      <td>363</td>\n",
       "      <td>357</td>\n",
       "      <td>213</td>\n",
       "      <td>126</td>\n",
       "      <td>67</td>\n",
       "      <td>25</td>\n",
       "      <td>4</td>\n",
       "    </tr>\n",
       "    <tr>\n",
       "      <th>2022-03-04</th>\n",
       "      <td>225</td>\n",
       "      <td>433</td>\n",
       "      <td>325</td>\n",
       "      <td>304</td>\n",
       "      <td>313</td>\n",
       "      <td>187</td>\n",
       "      <td>124</td>\n",
       "      <td>64</td>\n",
       "      <td>20</td>\n",
       "      <td>5</td>\n",
       "    </tr>\n",
       "    <tr>\n",
       "      <th>2022-03-05</th>\n",
       "      <td>195</td>\n",
       "      <td>445</td>\n",
       "      <td>297</td>\n",
       "      <td>264</td>\n",
       "      <td>293</td>\n",
       "      <td>207</td>\n",
       "      <td>100</td>\n",
       "      <td>60</td>\n",
       "      <td>29</td>\n",
       "      <td>2</td>\n",
       "    </tr>\n",
       "    <tr>\n",
       "      <th>2022-03-06</th>\n",
       "      <td>179</td>\n",
       "      <td>345</td>\n",
       "      <td>210</td>\n",
       "      <td>199</td>\n",
       "      <td>245</td>\n",
       "      <td>140</td>\n",
       "      <td>100</td>\n",
       "      <td>75</td>\n",
       "      <td>24</td>\n",
       "      <td>7</td>\n",
       "    </tr>\n",
       "    <tr>\n",
       "      <th>2022-03-07</th>\n",
       "      <td>200</td>\n",
       "      <td>376</td>\n",
       "      <td>195</td>\n",
       "      <td>200</td>\n",
       "      <td>280</td>\n",
       "      <td>155</td>\n",
       "      <td>83</td>\n",
       "      <td>48</td>\n",
       "      <td>39</td>\n",
       "      <td>15</td>\n",
       "    </tr>\n",
       "  </tbody>\n",
       "</table>\n",
       "</div>"
      ],
      "text/plain": [
       "agegroup        0-9  10-19_  20-29  30-39  40-49  50-59  60-69  70-79  80-89  \\\n",
       "diagnosis_date                                                                 \n",
       "2022-03-03      296     504    452    363    357    213    126     67     25   \n",
       "2022-03-04      225     433    325    304    313    187    124     64     20   \n",
       "2022-03-05      195     445    297    264    293    207    100     60     29   \n",
       "2022-03-06      179     345    210    199    245    140    100     75     24   \n",
       "2022-03-07      200     376    195    200    280    155     83     48     39   \n",
       "\n",
       "agegroup        90+  \n",
       "diagnosis_date       \n",
       "2022-03-03        4  \n",
       "2022-03-04        5  \n",
       "2022-03-05        2  \n",
       "2022-03-06        7  \n",
       "2022-03-07       15  "
      ]
     },
     "execution_count": 35,
     "metadata": {},
     "output_type": "execute_result"
    }
   ],
   "source": [
    "df_pivot.tail()"
   ]
  },
  {
   "cell_type": "code",
   "execution_count": 36,
   "id": "f87acb65-1551-4323-bec5-90fc2003e776",
   "metadata": {},
   "outputs": [
    {
     "data": {
      "text/plain": [
       "1591"
      ]
     },
     "execution_count": 36,
     "metadata": {},
     "output_type": "execute_result"
    }
   ],
   "source": [
    "# check that the latest date's sum matches the number of cases reported by Vic govt\n",
    "# the latest row's date is always yesterday\n",
    "\n",
    "yesterday = date.today() - timedelta(days = 1)\n",
    "\n",
    "# the dates in the pivot table are strings\n",
    "# so use isoformat() to convert date into string before looking it up in the table\n",
    "df_pivot.loc[yesterday.isoformat()].sum()"
   ]
  },
  {
   "cell_type": "code",
   "execution_count": 37,
   "id": "461f5959-98a6-4fdb-9e5e-feccb969a08d",
   "metadata": {},
   "outputs": [],
   "source": [
    "# take only the 0-9 and 10-19 cases, from 5 Dec onwards\n",
    "# for each date, store the previous date's cases; this matches what I've done for NSW\n",
    "# eg. on 8 Dec, the Vic cases are those reported on the 7th\n",
    "\n",
    "first = date(2021, 12, 5)\n",
    "today = date.today()\n",
    "\n",
    "df_0_19 = pd.DataFrame(columns = ['date', 'cases_0_9', 'cases_10_19'])\n",
    "\n",
    "curr = first\n",
    "prev = first - timedelta(days = 1)\n",
    "\n",
    "while (curr < today):\n",
    "    \n",
    "        df_0_19 = df_0_19.append({'date': curr.isoformat(), 'cases_0_9': df_pivot.loc[prev.isoformat(), '0-9'], \n",
    "                                  'cases_10_19': df_pivot.loc[prev.isoformat(), '10-19_']}, ignore_index = True)\n",
    "        prev = curr\n",
    "        curr = curr + timedelta(days = 1)"
   ]
  },
  {
   "cell_type": "code",
   "execution_count": 38,
   "id": "ce869ec6-ff19-45ec-95ab-55b9ba45eaa8",
   "metadata": {},
   "outputs": [
    {
     "data": {
      "text/html": [
       "<div>\n",
       "<style scoped>\n",
       "    .dataframe tbody tr th:only-of-type {\n",
       "        vertical-align: middle;\n",
       "    }\n",
       "\n",
       "    .dataframe tbody tr th {\n",
       "        vertical-align: top;\n",
       "    }\n",
       "\n",
       "    .dataframe thead th {\n",
       "        text-align: right;\n",
       "    }\n",
       "</style>\n",
       "<table border=\"1\" class=\"dataframe\">\n",
       "  <thead>\n",
       "    <tr style=\"text-align: right;\">\n",
       "      <th></th>\n",
       "      <th>date</th>\n",
       "      <th>cases_0_9</th>\n",
       "      <th>cases_10_19</th>\n",
       "    </tr>\n",
       "  </thead>\n",
       "  <tbody>\n",
       "    <tr>\n",
       "      <th>89</th>\n",
       "      <td>2022-03-04</td>\n",
       "      <td>296</td>\n",
       "      <td>504</td>\n",
       "    </tr>\n",
       "    <tr>\n",
       "      <th>90</th>\n",
       "      <td>2022-03-05</td>\n",
       "      <td>225</td>\n",
       "      <td>433</td>\n",
       "    </tr>\n",
       "    <tr>\n",
       "      <th>91</th>\n",
       "      <td>2022-03-06</td>\n",
       "      <td>195</td>\n",
       "      <td>445</td>\n",
       "    </tr>\n",
       "    <tr>\n",
       "      <th>92</th>\n",
       "      <td>2022-03-07</td>\n",
       "      <td>179</td>\n",
       "      <td>345</td>\n",
       "    </tr>\n",
       "    <tr>\n",
       "      <th>93</th>\n",
       "      <td>2022-03-08</td>\n",
       "      <td>200</td>\n",
       "      <td>376</td>\n",
       "    </tr>\n",
       "  </tbody>\n",
       "</table>\n",
       "</div>"
      ],
      "text/plain": [
       "          date cases_0_9 cases_10_19\n",
       "89  2022-03-04       296         504\n",
       "90  2022-03-05       225         433\n",
       "91  2022-03-06       195         445\n",
       "92  2022-03-07       179         345\n",
       "93  2022-03-08       200         376"
      ]
     },
     "execution_count": 38,
     "metadata": {},
     "output_type": "execute_result"
    }
   ],
   "source": [
    "df_0_19.tail()"
   ]
  },
  {
   "cell_type": "code",
   "execution_count": 39,
   "id": "a547c987-ea91-4021-80fd-02424d61efde",
   "metadata": {},
   "outputs": [],
   "source": [
    "df_0_19.to_csv(\"../data/cases_0_19.csv\")"
   ]
  },
  {
   "cell_type": "code",
   "execution_count": null,
   "id": "23ad468b-88ec-495b-86fa-854dd253e3be",
   "metadata": {},
   "outputs": [],
   "source": []
  }
 ],
 "metadata": {
  "kernelspec": {
   "display_name": "Python 3 (ipykernel)",
   "language": "python",
   "name": "python3"
  },
  "language_info": {
   "codemirror_mode": {
    "name": "ipython",
    "version": 3
   },
   "file_extension": ".py",
   "mimetype": "text/x-python",
   "name": "python",
   "nbconvert_exporter": "python",
   "pygments_lexer": "ipython3",
   "version": "3.8.12"
  }
 },
 "nbformat": 4,
 "nbformat_minor": 5
}
