{
 "cells": [
  {
   "cell_type": "code",
   "execution_count": 1,
   "id": "ae036c77-9131-41a0-973f-37e311d64772",
   "metadata": {},
   "outputs": [],
   "source": [
    "import pandas as pd\n",
    "from datetime import date, timedelta"
   ]
  },
  {
   "cell_type": "code",
   "execution_count": 2,
   "id": "5b87edf8-52a5-4511-9f67-40a9aa15a547",
   "metadata": {},
   "outputs": [],
   "source": [
    "file_path = \"https://www.dhhs.vic.gov.au/ncov-covid-cases-by-age-group-csv\"\n",
    "df = pd.read_csv(file_path)"
   ]
  },
  {
   "cell_type": "code",
   "execution_count": 3,
   "id": "8c5f8dce-c879-4e87-a274-01bde164d712",
   "metadata": {},
   "outputs": [
    {
     "data": {
      "text/html": [
       "<div>\n",
       "<style scoped>\n",
       "    .dataframe tbody tr th:only-of-type {\n",
       "        vertical-align: middle;\n",
       "    }\n",
       "\n",
       "    .dataframe tbody tr th {\n",
       "        vertical-align: top;\n",
       "    }\n",
       "\n",
       "    .dataframe thead th {\n",
       "        text-align: right;\n",
       "    }\n",
       "</style>\n",
       "<table border=\"1\" class=\"dataframe\">\n",
       "  <thead>\n",
       "    <tr style=\"text-align: right;\">\n",
       "      <th></th>\n",
       "      <th>diagnosis_date</th>\n",
       "      <th>agegroup</th>\n",
       "    </tr>\n",
       "  </thead>\n",
       "  <tbody>\n",
       "    <tr>\n",
       "      <th>603104</th>\n",
       "      <td>2022-02-04</td>\n",
       "      <td>30-39</td>\n",
       "    </tr>\n",
       "    <tr>\n",
       "      <th>603105</th>\n",
       "      <td>2022-02-04</td>\n",
       "      <td>30-39</td>\n",
       "    </tr>\n",
       "    <tr>\n",
       "      <th>603106</th>\n",
       "      <td>2022-02-04</td>\n",
       "      <td>20-29</td>\n",
       "    </tr>\n",
       "    <tr>\n",
       "      <th>603107</th>\n",
       "      <td>2022-02-04</td>\n",
       "      <td>10-19_</td>\n",
       "    </tr>\n",
       "    <tr>\n",
       "      <th>603108</th>\n",
       "      <td>2022-02-04</td>\n",
       "      <td>30-39</td>\n",
       "    </tr>\n",
       "  </tbody>\n",
       "</table>\n",
       "</div>"
      ],
      "text/plain": [
       "       diagnosis_date agegroup\n",
       "603104     2022-02-04    30-39\n",
       "603105     2022-02-04    30-39\n",
       "603106     2022-02-04    20-29\n",
       "603107     2022-02-04   10-19_\n",
       "603108     2022-02-04    30-39"
      ]
     },
     "execution_count": 3,
     "metadata": {},
     "output_type": "execute_result"
    }
   ],
   "source": [
    "df.tail()"
   ]
  },
  {
   "cell_type": "code",
   "execution_count": 4,
   "id": "5342293b-0abf-449b-bb2e-d6d9901d90d1",
   "metadata": {},
   "outputs": [],
   "source": [
    "df_pivot = pd.pivot_table(df, index = 'diagnosis_date', columns = 'agegroup', \n",
    "                         values = 'agegroup', aggfunc = len, fill_value = 0)"
   ]
  },
  {
   "cell_type": "code",
   "execution_count": 5,
   "id": "49501847-0700-4e2c-a799-4d3fa68a4f04",
   "metadata": {},
   "outputs": [
    {
     "data": {
      "text/html": [
       "<div>\n",
       "<style scoped>\n",
       "    .dataframe tbody tr th:only-of-type {\n",
       "        vertical-align: middle;\n",
       "    }\n",
       "\n",
       "    .dataframe tbody tr th {\n",
       "        vertical-align: top;\n",
       "    }\n",
       "\n",
       "    .dataframe thead th {\n",
       "        text-align: right;\n",
       "    }\n",
       "</style>\n",
       "<table border=\"1\" class=\"dataframe\">\n",
       "  <thead>\n",
       "    <tr style=\"text-align: right;\">\n",
       "      <th>agegroup</th>\n",
       "      <th>0-9</th>\n",
       "      <th>10-19_</th>\n",
       "      <th>20-29</th>\n",
       "      <th>30-39</th>\n",
       "      <th>40-49</th>\n",
       "      <th>50-59</th>\n",
       "      <th>60-69</th>\n",
       "      <th>70-79</th>\n",
       "      <th>80-89</th>\n",
       "      <th>90+</th>\n",
       "    </tr>\n",
       "    <tr>\n",
       "      <th>diagnosis_date</th>\n",
       "      <th></th>\n",
       "      <th></th>\n",
       "      <th></th>\n",
       "      <th></th>\n",
       "      <th></th>\n",
       "      <th></th>\n",
       "      <th></th>\n",
       "      <th></th>\n",
       "      <th></th>\n",
       "      <th></th>\n",
       "    </tr>\n",
       "  </thead>\n",
       "  <tbody>\n",
       "    <tr>\n",
       "      <th>2022-02-01</th>\n",
       "      <td>809</td>\n",
       "      <td>1082</td>\n",
       "      <td>1967</td>\n",
       "      <td>1454</td>\n",
       "      <td>948</td>\n",
       "      <td>694</td>\n",
       "      <td>449</td>\n",
       "      <td>243</td>\n",
       "      <td>97</td>\n",
       "      <td>34</td>\n",
       "    </tr>\n",
       "    <tr>\n",
       "      <th>2022-02-02</th>\n",
       "      <td>664</td>\n",
       "      <td>758</td>\n",
       "      <td>1428</td>\n",
       "      <td>1128</td>\n",
       "      <td>742</td>\n",
       "      <td>494</td>\n",
       "      <td>307</td>\n",
       "      <td>175</td>\n",
       "      <td>87</td>\n",
       "      <td>26</td>\n",
       "    </tr>\n",
       "    <tr>\n",
       "      <th>2022-02-03</th>\n",
       "      <td>584</td>\n",
       "      <td>565</td>\n",
       "      <td>671</td>\n",
       "      <td>786</td>\n",
       "      <td>558</td>\n",
       "      <td>405</td>\n",
       "      <td>281</td>\n",
       "      <td>155</td>\n",
       "      <td>62</td>\n",
       "      <td>24</td>\n",
       "    </tr>\n",
       "    <tr>\n",
       "      <th>2022-02-04</th>\n",
       "      <td>473</td>\n",
       "      <td>339</td>\n",
       "      <td>449</td>\n",
       "      <td>546</td>\n",
       "      <td>362</td>\n",
       "      <td>279</td>\n",
       "      <td>206</td>\n",
       "      <td>116</td>\n",
       "      <td>55</td>\n",
       "      <td>24</td>\n",
       "    </tr>\n",
       "    <tr>\n",
       "      <th>2022-02-05</th>\n",
       "      <td>468</td>\n",
       "      <td>332</td>\n",
       "      <td>392</td>\n",
       "      <td>531</td>\n",
       "      <td>378</td>\n",
       "      <td>242</td>\n",
       "      <td>185</td>\n",
       "      <td>115</td>\n",
       "      <td>49</td>\n",
       "      <td>10</td>\n",
       "    </tr>\n",
       "  </tbody>\n",
       "</table>\n",
       "</div>"
      ],
      "text/plain": [
       "agegroup        0-9  10-19_  20-29  30-39  40-49  50-59  60-69  70-79  80-89  \\\n",
       "diagnosis_date                                                                 \n",
       "2022-02-01      809    1082   1967   1454    948    694    449    243     97   \n",
       "2022-02-02      664     758   1428   1128    742    494    307    175     87   \n",
       "2022-02-03      584     565    671    786    558    405    281    155     62   \n",
       "2022-02-04      473     339    449    546    362    279    206    116     55   \n",
       "2022-02-05      468     332    392    531    378    242    185    115     49   \n",
       "\n",
       "agegroup        90+  \n",
       "diagnosis_date       \n",
       "2022-02-01       34  \n",
       "2022-02-02       26  \n",
       "2022-02-03       24  \n",
       "2022-02-04       24  \n",
       "2022-02-05       10  "
      ]
     },
     "execution_count": 5,
     "metadata": {},
     "output_type": "execute_result"
    }
   ],
   "source": [
    "df_pivot.tail()"
   ]
  },
  {
   "cell_type": "code",
   "execution_count": 6,
   "id": "f87acb65-1551-4323-bec5-90fc2003e776",
   "metadata": {},
   "outputs": [
    {
     "data": {
      "text/plain": [
       "2702"
      ]
     },
     "execution_count": 6,
     "metadata": {},
     "output_type": "execute_result"
    }
   ],
   "source": [
    "# check that the latest date's sum matches the number of cases reported by Vic govt\n",
    "# the latest row's date is always yesterday\n",
    "\n",
    "yesterday = date.today() - timedelta(days = 1)\n",
    "\n",
    "# the dates in the pivot table are strings\n",
    "# so use isoformat() to convert date into string before looking it up in the table\n",
    "df_pivot.loc[yesterday.isoformat()].sum()"
   ]
  },
  {
   "cell_type": "code",
   "execution_count": 7,
   "id": "461f5959-98a6-4fdb-9e5e-feccb969a08d",
   "metadata": {},
   "outputs": [],
   "source": [
    "# take only the 0-9 and 10-19 cases, from 5 Dec onwards\n",
    "# for each date, store the previous date's cases; this matches what I've done for NSW\n",
    "# eg. on 8 Dec, the Vic cases are those reported on the 7th\n",
    "\n",
    "first = date(2021, 12, 5)\n",
    "today = date.today()\n",
    "\n",
    "df_0_19 = pd.DataFrame(columns = ['date', 'cases_0_9', 'cases_10_19'])\n",
    "\n",
    "curr = first\n",
    "prev = first - timedelta(days = 1)\n",
    "\n",
    "while (curr < today):\n",
    "    \n",
    "        df_0_19 = df_0_19.append({'date': curr.isoformat(), 'cases_0_9': df_pivot.loc[prev.isoformat(), '0-9'], \n",
    "                                  'cases_10_19': df_pivot.loc[prev.isoformat(), '10-19_']}, ignore_index = True)\n",
    "        prev = curr\n",
    "        curr = curr + timedelta(days = 1)"
   ]
  },
  {
   "cell_type": "code",
   "execution_count": 8,
   "id": "ce869ec6-ff19-45ec-95ab-55b9ba45eaa8",
   "metadata": {},
   "outputs": [
    {
     "data": {
      "text/html": [
       "<div>\n",
       "<style scoped>\n",
       "    .dataframe tbody tr th:only-of-type {\n",
       "        vertical-align: middle;\n",
       "    }\n",
       "\n",
       "    .dataframe tbody tr th {\n",
       "        vertical-align: top;\n",
       "    }\n",
       "\n",
       "    .dataframe thead th {\n",
       "        text-align: right;\n",
       "    }\n",
       "</style>\n",
       "<table border=\"1\" class=\"dataframe\">\n",
       "  <thead>\n",
       "    <tr style=\"text-align: right;\">\n",
       "      <th></th>\n",
       "      <th>date</th>\n",
       "      <th>cases_0_9</th>\n",
       "      <th>cases_10_19</th>\n",
       "    </tr>\n",
       "  </thead>\n",
       "  <tbody>\n",
       "    <tr>\n",
       "      <th>58</th>\n",
       "      <td>2022-02-01</td>\n",
       "      <td>621</td>\n",
       "      <td>579</td>\n",
       "    </tr>\n",
       "    <tr>\n",
       "      <th>59</th>\n",
       "      <td>2022-02-02</td>\n",
       "      <td>809</td>\n",
       "      <td>1082</td>\n",
       "    </tr>\n",
       "    <tr>\n",
       "      <th>60</th>\n",
       "      <td>2022-02-03</td>\n",
       "      <td>664</td>\n",
       "      <td>758</td>\n",
       "    </tr>\n",
       "    <tr>\n",
       "      <th>61</th>\n",
       "      <td>2022-02-04</td>\n",
       "      <td>584</td>\n",
       "      <td>565</td>\n",
       "    </tr>\n",
       "    <tr>\n",
       "      <th>62</th>\n",
       "      <td>2022-02-05</td>\n",
       "      <td>473</td>\n",
       "      <td>339</td>\n",
       "    </tr>\n",
       "  </tbody>\n",
       "</table>\n",
       "</div>"
      ],
      "text/plain": [
       "          date cases_0_9 cases_10_19\n",
       "58  2022-02-01       621         579\n",
       "59  2022-02-02       809        1082\n",
       "60  2022-02-03       664         758\n",
       "61  2022-02-04       584         565\n",
       "62  2022-02-05       473         339"
      ]
     },
     "execution_count": 8,
     "metadata": {},
     "output_type": "execute_result"
    }
   ],
   "source": [
    "df_0_19.tail()"
   ]
  },
  {
   "cell_type": "code",
   "execution_count": 9,
   "id": "a547c987-ea91-4021-80fd-02424d61efde",
   "metadata": {},
   "outputs": [],
   "source": [
    "df_0_19.to_csv(\"../data/cases_0_19.csv\")"
   ]
  },
  {
   "cell_type": "code",
   "execution_count": null,
   "id": "23ad468b-88ec-495b-86fa-854dd253e3be",
   "metadata": {},
   "outputs": [],
   "source": []
  }
 ],
 "metadata": {
  "kernelspec": {
   "display_name": "Python 3 (ipykernel)",
   "language": "python",
   "name": "python3"
  },
  "language_info": {
   "codemirror_mode": {
    "name": "ipython",
    "version": 3
   },
   "file_extension": ".py",
   "mimetype": "text/x-python",
   "name": "python",
   "nbconvert_exporter": "python",
   "pygments_lexer": "ipython3",
   "version": "3.8.12"
  }
 },
 "nbformat": 4,
 "nbformat_minor": 5
}
