{
 "cells": [
  {
   "cell_type": "code",
   "execution_count": 16,
   "id": "ae036c77-9131-41a0-973f-37e311d64772",
   "metadata": {},
   "outputs": [],
   "source": [
    "import pandas as pd\n",
    "from datetime import date, timedelta"
   ]
  },
  {
   "cell_type": "code",
   "execution_count": 17,
   "id": "5b87edf8-52a5-4511-9f67-40a9aa15a547",
   "metadata": {},
   "outputs": [],
   "source": [
    "file_path = \"https://www.dhhs.vic.gov.au/ncov-covid-cases-by-age-group-csv\"\n",
    "df = pd.read_csv(file_path)"
   ]
  },
  {
   "cell_type": "code",
   "execution_count": 18,
   "id": "8c5f8dce-c879-4e87-a274-01bde164d712",
   "metadata": {},
   "outputs": [
    {
     "data": {
      "text/html": [
       "<div>\n",
       "<style scoped>\n",
       "    .dataframe tbody tr th:only-of-type {\n",
       "        vertical-align: middle;\n",
       "    }\n",
       "\n",
       "    .dataframe tbody tr th {\n",
       "        vertical-align: top;\n",
       "    }\n",
       "\n",
       "    .dataframe thead th {\n",
       "        text-align: right;\n",
       "    }\n",
       "</style>\n",
       "<table border=\"1\" class=\"dataframe\">\n",
       "  <thead>\n",
       "    <tr style=\"text-align: right;\">\n",
       "      <th></th>\n",
       "      <th>diagnosis_date</th>\n",
       "      <th>agegroup</th>\n",
       "    </tr>\n",
       "  </thead>\n",
       "  <tbody>\n",
       "    <tr>\n",
       "      <th>676107</th>\n",
       "      <td>2022-03-06</td>\n",
       "      <td>60-69</td>\n",
       "    </tr>\n",
       "    <tr>\n",
       "      <th>676108</th>\n",
       "      <td>2022-03-06</td>\n",
       "      <td>50-59</td>\n",
       "    </tr>\n",
       "    <tr>\n",
       "      <th>676109</th>\n",
       "      <td>2022-03-06</td>\n",
       "      <td>40-49</td>\n",
       "    </tr>\n",
       "    <tr>\n",
       "      <th>676110</th>\n",
       "      <td>2022-03-06</td>\n",
       "      <td>10-19_</td>\n",
       "    </tr>\n",
       "    <tr>\n",
       "      <th>676111</th>\n",
       "      <td>2022-03-06</td>\n",
       "      <td>10-19_</td>\n",
       "    </tr>\n",
       "  </tbody>\n",
       "</table>\n",
       "</div>"
      ],
      "text/plain": [
       "       diagnosis_date agegroup\n",
       "676107     2022-03-06    60-69\n",
       "676108     2022-03-06    50-59\n",
       "676109     2022-03-06    40-49\n",
       "676110     2022-03-06   10-19_\n",
       "676111     2022-03-06   10-19_"
      ]
     },
     "execution_count": 18,
     "metadata": {},
     "output_type": "execute_result"
    }
   ],
   "source": [
    "df.tail()"
   ]
  },
  {
   "cell_type": "code",
   "execution_count": 19,
   "id": "5342293b-0abf-449b-bb2e-d6d9901d90d1",
   "metadata": {},
   "outputs": [],
   "source": [
    "df_pivot = pd.pivot_table(df, index = 'diagnosis_date', columns = 'agegroup', \n",
    "                         values = 'agegroup', aggfunc = len, fill_value = 0)"
   ]
  },
  {
   "cell_type": "code",
   "execution_count": 20,
   "id": "49501847-0700-4e2c-a799-4d3fa68a4f04",
   "metadata": {},
   "outputs": [
    {
     "data": {
      "text/html": [
       "<div>\n",
       "<style scoped>\n",
       "    .dataframe tbody tr th:only-of-type {\n",
       "        vertical-align: middle;\n",
       "    }\n",
       "\n",
       "    .dataframe tbody tr th {\n",
       "        vertical-align: top;\n",
       "    }\n",
       "\n",
       "    .dataframe thead th {\n",
       "        text-align: right;\n",
       "    }\n",
       "</style>\n",
       "<table border=\"1\" class=\"dataframe\">\n",
       "  <thead>\n",
       "    <tr style=\"text-align: right;\">\n",
       "      <th>agegroup</th>\n",
       "      <th>0-9</th>\n",
       "      <th>10-19_</th>\n",
       "      <th>20-29</th>\n",
       "      <th>30-39</th>\n",
       "      <th>40-49</th>\n",
       "      <th>50-59</th>\n",
       "      <th>60-69</th>\n",
       "      <th>70-79</th>\n",
       "      <th>80-89</th>\n",
       "      <th>90+</th>\n",
       "    </tr>\n",
       "    <tr>\n",
       "      <th>diagnosis_date</th>\n",
       "      <th></th>\n",
       "      <th></th>\n",
       "      <th></th>\n",
       "      <th></th>\n",
       "      <th></th>\n",
       "      <th></th>\n",
       "      <th></th>\n",
       "      <th></th>\n",
       "      <th></th>\n",
       "      <th></th>\n",
       "    </tr>\n",
       "  </thead>\n",
       "  <tbody>\n",
       "    <tr>\n",
       "      <th>2022-03-02</th>\n",
       "      <td>258</td>\n",
       "      <td>542</td>\n",
       "      <td>505</td>\n",
       "      <td>364</td>\n",
       "      <td>381</td>\n",
       "      <td>230</td>\n",
       "      <td>111</td>\n",
       "      <td>70</td>\n",
       "      <td>25</td>\n",
       "      <td>10</td>\n",
       "    </tr>\n",
       "    <tr>\n",
       "      <th>2022-03-03</th>\n",
       "      <td>295</td>\n",
       "      <td>498</td>\n",
       "      <td>454</td>\n",
       "      <td>362</td>\n",
       "      <td>357</td>\n",
       "      <td>213</td>\n",
       "      <td>125</td>\n",
       "      <td>67</td>\n",
       "      <td>25</td>\n",
       "      <td>4</td>\n",
       "    </tr>\n",
       "    <tr>\n",
       "      <th>2022-03-04</th>\n",
       "      <td>223</td>\n",
       "      <td>432</td>\n",
       "      <td>324</td>\n",
       "      <td>303</td>\n",
       "      <td>312</td>\n",
       "      <td>187</td>\n",
       "      <td>124</td>\n",
       "      <td>63</td>\n",
       "      <td>20</td>\n",
       "      <td>5</td>\n",
       "    </tr>\n",
       "    <tr>\n",
       "      <th>2022-03-05</th>\n",
       "      <td>192</td>\n",
       "      <td>435</td>\n",
       "      <td>293</td>\n",
       "      <td>260</td>\n",
       "      <td>287</td>\n",
       "      <td>205</td>\n",
       "      <td>99</td>\n",
       "      <td>60</td>\n",
       "      <td>28</td>\n",
       "      <td>2</td>\n",
       "    </tr>\n",
       "    <tr>\n",
       "      <th>2022-03-06</th>\n",
       "      <td>163</td>\n",
       "      <td>290</td>\n",
       "      <td>190</td>\n",
       "      <td>189</td>\n",
       "      <td>232</td>\n",
       "      <td>129</td>\n",
       "      <td>92</td>\n",
       "      <td>73</td>\n",
       "      <td>23</td>\n",
       "      <td>7</td>\n",
       "    </tr>\n",
       "  </tbody>\n",
       "</table>\n",
       "</div>"
      ],
      "text/plain": [
       "agegroup        0-9  10-19_  20-29  30-39  40-49  50-59  60-69  70-79  80-89  \\\n",
       "diagnosis_date                                                                 \n",
       "2022-03-02      258     542    505    364    381    230    111     70     25   \n",
       "2022-03-03      295     498    454    362    357    213    125     67     25   \n",
       "2022-03-04      223     432    324    303    312    187    124     63     20   \n",
       "2022-03-05      192     435    293    260    287    205     99     60     28   \n",
       "2022-03-06      163     290    190    189    232    129     92     73     23   \n",
       "\n",
       "agegroup        90+  \n",
       "diagnosis_date       \n",
       "2022-03-02       10  \n",
       "2022-03-03        4  \n",
       "2022-03-04        5  \n",
       "2022-03-05        2  \n",
       "2022-03-06        7  "
      ]
     },
     "execution_count": 20,
     "metadata": {},
     "output_type": "execute_result"
    }
   ],
   "source": [
    "df_pivot.tail()"
   ]
  },
  {
   "cell_type": "code",
   "execution_count": 21,
   "id": "f87acb65-1551-4323-bec5-90fc2003e776",
   "metadata": {},
   "outputs": [
    {
     "data": {
      "text/plain": [
       "1388"
      ]
     },
     "execution_count": 21,
     "metadata": {},
     "output_type": "execute_result"
    }
   ],
   "source": [
    "# check that the latest date's sum matches the number of cases reported by Vic govt\n",
    "# the latest row's date is always yesterday\n",
    "\n",
    "yesterday = date.today() - timedelta(days = 1)\n",
    "\n",
    "# the dates in the pivot table are strings\n",
    "# so use isoformat() to convert date into string before looking it up in the table\n",
    "df_pivot.loc[yesterday.isoformat()].sum()"
   ]
  },
  {
   "cell_type": "code",
   "execution_count": 22,
   "id": "461f5959-98a6-4fdb-9e5e-feccb969a08d",
   "metadata": {},
   "outputs": [],
   "source": [
    "# take only the 0-9 and 10-19 cases, from 5 Dec onwards\n",
    "# for each date, store the previous date's cases; this matches what I've done for NSW\n",
    "# eg. on 8 Dec, the Vic cases are those reported on the 7th\n",
    "\n",
    "first = date(2021, 12, 5)\n",
    "today = date.today()\n",
    "\n",
    "df_0_19 = pd.DataFrame(columns = ['date', 'cases_0_9', 'cases_10_19'])\n",
    "\n",
    "curr = first\n",
    "prev = first - timedelta(days = 1)\n",
    "\n",
    "while (curr < today):\n",
    "    \n",
    "        df_0_19 = df_0_19.append({'date': curr.isoformat(), 'cases_0_9': df_pivot.loc[prev.isoformat(), '0-9'], \n",
    "                                  'cases_10_19': df_pivot.loc[prev.isoformat(), '10-19_']}, ignore_index = True)\n",
    "        prev = curr\n",
    "        curr = curr + timedelta(days = 1)"
   ]
  },
  {
   "cell_type": "code",
   "execution_count": 23,
   "id": "ce869ec6-ff19-45ec-95ab-55b9ba45eaa8",
   "metadata": {},
   "outputs": [
    {
     "data": {
      "text/html": [
       "<div>\n",
       "<style scoped>\n",
       "    .dataframe tbody tr th:only-of-type {\n",
       "        vertical-align: middle;\n",
       "    }\n",
       "\n",
       "    .dataframe tbody tr th {\n",
       "        vertical-align: top;\n",
       "    }\n",
       "\n",
       "    .dataframe thead th {\n",
       "        text-align: right;\n",
       "    }\n",
       "</style>\n",
       "<table border=\"1\" class=\"dataframe\">\n",
       "  <thead>\n",
       "    <tr style=\"text-align: right;\">\n",
       "      <th></th>\n",
       "      <th>date</th>\n",
       "      <th>cases_0_9</th>\n",
       "      <th>cases_10_19</th>\n",
       "    </tr>\n",
       "  </thead>\n",
       "  <tbody>\n",
       "    <tr>\n",
       "      <th>88</th>\n",
       "      <td>2022-03-03</td>\n",
       "      <td>258</td>\n",
       "      <td>542</td>\n",
       "    </tr>\n",
       "    <tr>\n",
       "      <th>89</th>\n",
       "      <td>2022-03-04</td>\n",
       "      <td>295</td>\n",
       "      <td>498</td>\n",
       "    </tr>\n",
       "    <tr>\n",
       "      <th>90</th>\n",
       "      <td>2022-03-05</td>\n",
       "      <td>223</td>\n",
       "      <td>432</td>\n",
       "    </tr>\n",
       "    <tr>\n",
       "      <th>91</th>\n",
       "      <td>2022-03-06</td>\n",
       "      <td>192</td>\n",
       "      <td>435</td>\n",
       "    </tr>\n",
       "    <tr>\n",
       "      <th>92</th>\n",
       "      <td>2022-03-07</td>\n",
       "      <td>163</td>\n",
       "      <td>290</td>\n",
       "    </tr>\n",
       "  </tbody>\n",
       "</table>\n",
       "</div>"
      ],
      "text/plain": [
       "          date cases_0_9 cases_10_19\n",
       "88  2022-03-03       258         542\n",
       "89  2022-03-04       295         498\n",
       "90  2022-03-05       223         432\n",
       "91  2022-03-06       192         435\n",
       "92  2022-03-07       163         290"
      ]
     },
     "execution_count": 23,
     "metadata": {},
     "output_type": "execute_result"
    }
   ],
   "source": [
    "df_0_19.tail()"
   ]
  },
  {
   "cell_type": "code",
   "execution_count": 24,
   "id": "a547c987-ea91-4021-80fd-02424d61efde",
   "metadata": {},
   "outputs": [],
   "source": [
    "df_0_19.to_csv(\"../data/cases_0_19.csv\")"
   ]
  },
  {
   "cell_type": "code",
   "execution_count": null,
   "id": "23ad468b-88ec-495b-86fa-854dd253e3be",
   "metadata": {},
   "outputs": [],
   "source": []
  }
 ],
 "metadata": {
  "kernelspec": {
   "display_name": "Python 3 (ipykernel)",
   "language": "python",
   "name": "python3"
  },
  "language_info": {
   "codemirror_mode": {
    "name": "ipython",
    "version": 3
   },
   "file_extension": ".py",
   "mimetype": "text/x-python",
   "name": "python",
   "nbconvert_exporter": "python",
   "pygments_lexer": "ipython3",
   "version": "3.8.12"
  }
 },
 "nbformat": 4,
 "nbformat_minor": 5
}
